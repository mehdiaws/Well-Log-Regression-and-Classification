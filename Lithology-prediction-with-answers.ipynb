{
 "cells": [
  {
   "cell_type": "markdown",
   "metadata": {},
   "source": [
    "# Lithology Modeling with Amazon SageMaker XGBoost algorithm\n",
    "_**Single machine training for regression with Amazon SageMaker XGBoost algorithm**_\n",
    "\n",
    "---\n",
    "\n",
    "---\n",
    "## Contents\n",
    "1. [Introduction](#Introduction)\n",
    "2. [Setup](#Setup)\n",
    "  1. [Define Some Functions](#Define-Some-Functions)\n",
    "  2. [Data Ingestion](#Data-ingestion)\n",
    "3. [Training and deploying the XGBoost model](#Training-and-deploying-the-XGBoost-model)\n",
    "4. [Make Prediction Using Your Model](#Make-Prediction-Using-Your-Model)\n",
    "\n",
    "---\n",
    "## Introduction\n",
    "\n",
    "\n",
    "This notebook demonstrates the use of Amazon SageMaker's implementation of the XGBoost algorithm to train and host a classification model for prediction of lithology from well log measurements. \n",
    "\n",
    "> A Jupyter Notebook is an open-source web application that allows you to create and share documents that contain live code, equations, visualizations and narrative text. - http://jupyter.org/\n",
    "\n",
    "The dataset is log data from nine wells, with 5 wireline log measurements, two indicator variables and a facies label at half foot intervals. The seven predictor variables are:\n",
    "\n",
    "Five wireline log curves including: \n",
    "\n",
    "- Gamma ray (GR)\n",
    "- Resistivity logging (ILD_log10)\n",
    "- Photoelectric effect (PE) - Note, some wells do not have PE.\n",
    "- Neutron-density porosity difference \n",
    "- Average neutron-density porosity (DeltaPHI and PHIND)\n",
    "\n",
    "Two geologic constraining variables: \n",
    "\n",
    "- Nonmarine-marine indicator (NM_M) \n",
    "- Relative position (RELPOS)\n",
    "- Facies\n",
    "\n",
    "We will focus on these logs: GR, ILD_log10, DeltaPH, PHIND, where we try to predict Facies by training using 7 wells, 1 validation well, and one well for blind test. \n",
    "\n",
    "The dataset comes from a class exercise from The University of Kansas on Neural Networks and Fuzzy Systems. This exercise is based on a consortium project to use machine learning techniques to create a reservoir model of the largest gas fields in North America, the Hugoton and Panoma Fields. For more info on the origin of the data, see Bohling and Dubois (2003) and Dubois et al. (2007).\n",
    "\n",
    "---\n",
    "## Setup\n",
    "\n",
    "\n",
    "Let's start by loading the required libraries to run the notebook: "
   ]
  },
  {
   "cell_type": "code",
   "execution_count": 30,
   "metadata": {
    "isConfigCell": true
   },
   "outputs": [
    {
     "name": "stdout",
     "output_type": "stream",
     "text": [
      "CPU times: user 132 ms, sys: 4.68 ms, total: 136 ms\n",
      "Wall time: 172 ms\n"
     ]
    }
   ],
   "source": [
    "%%time\n",
    "import os\n",
    "import boto3\n",
    "import re\n",
    "import sagemaker\n",
    "from sagemaker import get_execution_role\n",
    "from sagemaker.predictor import csv_serializer\n",
    "import pandas as pd\n",
    "import numpy as np\n",
    "import matplotlib.pyplot as plt\n",
    "import matplotlib.colors as colors\n",
    "from mpl_toolkits.axes_grid1 import make_axes_locatable\n",
    "from pandas import set_option\n",
    "import struct\n",
    "import io\n",
    "import random\n",
    "from numpy  import array\n",
    "import pickle, gzip, urllib.request, json\n",
    "%matplotlib inline\n",
    "\n",
    "role = get_execution_role()\n",
    "region = boto3.Session().region_name"
   ]
  },
  {
   "cell_type": "markdown",
   "metadata": {},
   "source": [
    "### Define some functions\n",
    "\n",
    "Following methods (data_split) split the data into train/test/validation datasets and upload files to S3. Also we define functions for displaying our results (compare_facies_plot) and doing prediction on blind well (predict)."
   ]
  },
  {
   "cell_type": "code",
   "execution_count": 31,
   "metadata": {},
   "outputs": [],
   "source": [
    "def data_split(FILE_DATA, FILE_TRAIN, FILE_VALIDATION, FILE_TEST, Valid_Well_Name, Blind_Well_Name, TARGET_VAR):\n",
    "    data = pd.read_csv(FILE_DATA)\n",
    "    n = data.shape[0]\n",
    "    \n",
    "    # Make the first column the target feature    \n",
    "    cols = data.columns.tolist()\n",
    "    target_pos = data.columns.get_loc(TARGET_VAR)\n",
    "    cols.pop(target_pos)\n",
    "    cols = [TARGET_VAR] + cols\n",
    "    data = data.loc[:,cols]\n",
    "                \n",
    "    # Remove target colun from test set\n",
    "    #test_data = test_data.drop([TARGET_VAR], axis=1)\n",
    "\n",
    "    # Split data\n",
    "    test_data = data[data['Well Name'] == Blind_Well_Name]\n",
    "    test_data = test_data.drop(['Well Name'], axis=1)\n",
    "    \n",
    "    valid_data = data[data['Well Name'] == Valid_Well_Name]\n",
    "    valid_data = valid_data.drop(['Well Name'], axis=1)\n",
    "\n",
    "    train_data = data[data['Well Name'] != Blind_Well_Name]\n",
    "    train_data = train_data[train_data['Well Name'] != Valid_Well_Name]\n",
    "\n",
    "    train_data = train_data.drop(['Well Name'], axis=1)\n",
    "\n",
    "    train_data.to_csv(FILE_TRAIN, index=False, header=False)\n",
    "    valid_data.to_csv(FILE_VALIDATION, index=False, header=False)\n",
    "    test_data.to_csv(FILE_TEST, index=False, header=False)\n",
    "    \n",
    "def write_to_s3(fobj, bucket, key):\n",
    "    return boto3.Session().resource('s3').Bucket(bucket).Object(key).upload_fileobj(fobj)\n",
    "\n",
    "def upload_to_s3(bucket, channel, filename):\n",
    "    fobj=open(filename, 'rb')\n",
    "    key = prefix+'/'+channel+'/'+filename\n",
    "    url = 's3://{}/{}'.format(bucket, key)\n",
    "    print('Writing to {}'.format(url))\n",
    "    write_to_s3(fobj, bucket, key)     \n",
    "    return(url)\n"
   ]
  },
  {
   "cell_type": "code",
   "execution_count": 32,
   "metadata": {},
   "outputs": [],
   "source": [
    "def compare_facies_plot(logs, compadre, facies_colors):\n",
    "    #make sure logs are sorted by depth\n",
    "    logs = logs.sort_values(by='Depth')\n",
    "    cmap_facies = colors.ListedColormap(\n",
    "            facies_colors[0:len(facies_colors)], 'indexed')\n",
    "    \n",
    "    ztop=logs.Depth.min(); zbot=logs.Depth.max()\n",
    "    \n",
    "    cluster1 = np.repeat(np.expand_dims(logs['Facies'].values,1), 100, 1)\n",
    "    cluster2 = np.repeat(np.expand_dims(logs[compadre].values,1), 100, 1)\n",
    "    \n",
    "    f, ax = plt.subplots(nrows=1, ncols=6, figsize=(9, 12))\n",
    "    ax[0].plot(logs.GR, logs.Depth, '-g')\n",
    "    ax[1].plot(logs.ILD_log10, logs.Depth, '-')\n",
    "    ax[2].plot(logs.DeltaPHI, logs.Depth, '-', color='0.5')\n",
    "    ax[3].plot(logs.PHIND, logs.Depth, '-', color='r')\n",
    "    im1 = ax[4].imshow(cluster1, interpolation='none', aspect='auto',\n",
    "                    cmap=cmap_facies,vmin=1,vmax=9)\n",
    "    im2 = ax[5].imshow(cluster2, interpolation='none', aspect='auto',\n",
    "                    cmap=cmap_facies,vmin=1,vmax=9)\n",
    "    \n",
    "    divider = make_axes_locatable(ax[5])\n",
    "    cax = divider.append_axes(\"right\", size=\"20%\", pad=0.05)\n",
    "    cbar=plt.colorbar(im2, cax=cax)\n",
    "    cbar.set_label((17*' ').join([' SS ', 'CSiS', 'FSiS', \n",
    "                                'SiSh', ' MS ', ' WS ', ' D  ', \n",
    "                                ' PS ', ' BS ']))\n",
    "    cbar.set_ticks(range(0,1)); cbar.set_ticklabels('')\n",
    "    \n",
    "    for i in range(len(ax)-2):\n",
    "        ax[i].set_ylim(ztop,zbot)\n",
    "        ax[i].invert_yaxis()\n",
    "        ax[i].grid()\n",
    "        ax[i].locator_params(axis='x', nbins=3)\n",
    "    \n",
    "    ax[0].set_xlabel(\"GR\")\n",
    "    ax[0].set_xlim(logs.GR.min(),logs.GR.max())\n",
    "    ax[1].set_xlabel(\"ILD_log10\")\n",
    "    ax[1].set_xlim(logs.ILD_log10.min(),logs.ILD_log10.max())\n",
    "    ax[2].set_xlabel(\"DeltaPHI\")\n",
    "    ax[2].set_xlim(logs.DeltaPHI.min(),logs.DeltaPHI.max())\n",
    "    ax[3].set_xlabel(\"PHIND\")\n",
    "    ax[3].set_xlim(logs.PHIND.min(),logs.PHIND.max())\n",
    "    ax[4].set_xlabel('Facies')\n",
    "    ax[5].set_xlabel(compadre)    \n",
    "    ax[1].set_yticklabels([]); ax[2].set_yticklabels([]); ax[3].set_yticklabels([])\n",
    "    ax[4].set_yticklabels([])\n",
    "    ax[4].set_xticklabels([])\n",
    "    ax[5].set_xticklabels([])\n",
    "    f.suptitle('Well: %s'%logs.iloc[0]['Well Name'], fontsize=14,y=0.94)"
   ]
  },
  {
   "cell_type": "code",
   "execution_count": 33,
   "metadata": {},
   "outputs": [],
   "source": [
    "def predict(data):\n",
    "    rows=len(data)\n",
    "    xgboost_predictor.content_type = 'text/csv'\n",
    "    xgboost_predictor.serializer = csv_serializer\n",
    "    xgboost_predictor.deserializer = None\n",
    "\n",
    "    split_array = np.array_split(data, int(data.shape[0] / float(rows) + 1))\n",
    "    predictions = ''\n",
    "    for array in split_array:\n",
    "        predictions = ','.join([predictions, xgboost_predictor.predict(array).decode('utf-8')])\n",
    "\n",
    "    return np.fromstring(predictions[1:], sep=',')"
   ]
  },
  {
   "cell_type": "markdown",
   "metadata": {},
   "source": [
    "We will specify the S3 bucket and prefix that you want to use for storing training/validation data. This should be within the same region as the Notebook Instance, training, and hosting."
   ]
  },
  {
   "cell_type": "markdown",
   "metadata": {},
   "source": [
    "**<span style=\"color:blue\">1- Set you bucket name, by assigning your bucket name to a variable named \"bucket\". You can leave other lines unchanged:</span>**"
   ]
  },
  {
   "cell_type": "code",
   "execution_count": 34,
   "metadata": {},
   "outputs": [],
   "source": [
    "bucket='your bucket name' # put your s3 bucket name here, and create s3 bucket\n",
    "prefix = 'public-data'\n",
    "bucket_path = 'https://s3-{}.amazonaws.com/{}'.format(region,bucket)"
   ]
  },
  {
   "cell_type": "markdown",
   "metadata": {},
   "source": [
    "### Data ingestion\n",
    "\n",
    "Next, we read the dataset from the data.csv file that you downloaded earlier. This file needs to be uploaded to the Sagemaker notebook instance."
   ]
  },
  {
   "cell_type": "markdown",
   "metadata": {},
   "source": [
    "When using the csv option, here is the critical piece of information about the data format:\n",
    "\n",
    "> For CSV training, the algorithm assumes that the target variable is in the first column and that the CSV does not have a header record. For CSV inference, the algorithm assumes that CSV input does not have the label column.\n",
    "\n",
    "[Source](https://docs.aws.amazon.com/sagemaker/latest/dg/xgboost.html)"
   ]
  },
  {
   "cell_type": "markdown",
   "metadata": {},
   "source": [
    "**<span style=\"color:blue\">2- Read data.csv:</span>**\n",
    "\n"
   ]
  },
  {
   "cell_type": "code",
   "execution_count": 35,
   "metadata": {},
   "outputs": [],
   "source": [
    "data = pd.read_csv('data.csv')"
   ]
  },
  {
   "cell_type": "markdown",
   "metadata": {},
   "source": [
    "**<span style=\"color:blue\">3- Remove rows with missing data</span>**\n",
    "\n"
   ]
  },
  {
   "cell_type": "code",
   "execution_count": 36,
   "metadata": {},
   "outputs": [],
   "source": [
    "# Remove rows with missing values\n",
    "data.dropna(inplace=True)"
   ]
  },
  {
   "cell_type": "code",
   "execution_count": 37,
   "metadata": {},
   "outputs": [],
   "source": [
    "data['Facies'] = data['Facies']-1  # we need to subtract 1 to make class ranges start from 0 (required by Sagemaker's xgb algo)"
   ]
  },
  {
   "cell_type": "markdown",
   "metadata": {},
   "source": [
    "**<span style=\"color:blue\">4- Print the first few rows, and also the names of all of the wells in the dataset for qc</span>**\n",
    "\n"
   ]
  },
  {
   "cell_type": "code",
   "execution_count": 38,
   "metadata": {},
   "outputs": [
    {
     "name": "stdout",
     "output_type": "stream",
     "text": [
      "   Facies  Well Name   Depth     GR  ILD_log10  DeltaPHI   PHIND  RELPOS\n",
      "0       2  SHRIMPLIN  2793.0  77.45      0.664       9.9  11.915   1.000\n",
      "1       2  SHRIMPLIN  2793.5  78.26      0.661      14.2  12.565   0.979\n",
      "2       2  SHRIMPLIN  2794.0  79.05      0.658      14.8  13.050   0.957\n",
      "3       2  SHRIMPLIN  2794.5  86.10      0.655      13.9  13.115   0.936\n",
      "4       2  SHRIMPLIN  2795.0  74.58      0.647      13.5  13.300   0.915\n",
      "['SHRIMPLIN' 'ALEXANDER D' 'SHANKLE' 'LUKE G U' 'KIMZEY A'\n",
      " 'CROSS H CATTLE' 'NOLAN' 'Recruit F9' 'NEWBY' 'CHURCHMAN BIBLE']\n"
     ]
    }
   ],
   "source": [
    "print(data.head())\n",
    "print(data['Well Name'].unique())"
   ]
  },
  {
   "cell_type": "code",
   "execution_count": 39,
   "metadata": {},
   "outputs": [],
   "source": [
    "################# ADD FACIES LABELS ##################\n",
    "\n",
    "# 1=sandstone  2=c_siltstone   3=f_siltstone \n",
    "# 4=marine_silt_shale 5=mudstone 6=wackestone 7=dolomite\n",
    "# 8=packstone 9=bafflestone\n",
    "facies_colors = ['#F4D03F', '#F5B041','#DC7633','#6E2C00',\n",
    "       '#1B4F72','#2E86C1', '#AED6F1', '#A569BD', '#196F3D']\n",
    "\n",
    "facies_labels = ['SS', 'CSiS', 'FSiS', 'SiSh', 'MS',\n",
    "                 'WS', 'D','PS', 'BS']\n",
    "#facies_color_map is a dictionary that maps facies labels\n",
    "#to their respective colors\n",
    "facies_color_map = {}\n",
    "for ind, label in enumerate(facies_labels):\n",
    "    facies_color_map[label] = facies_colors[ind]\n",
    "\n",
    "def label_facies(row, labels):\n",
    "    return labels[ row['Facies'] -1]\n",
    "\n",
    "data.loc[:,'FaciesLabels'] = data.apply(lambda row: label_facies(row, facies_labels), axis=1)     "
   ]
  },
  {
   "cell_type": "markdown",
   "metadata": {},
   "source": [
    "**<span style=\"color:blue\">5- Only select the following columns from your data:\n",
    "    'Well Name', 'Facies','GR', 'DeltaPHI', 'PHIND'</span>**\n",
    "\n"
   ]
  },
  {
   "cell_type": "code",
   "execution_count": 40,
   "metadata": {},
   "outputs": [
    {
     "name": "stdout",
     "output_type": "stream",
     "text": [
      "   Well Name  Facies     GR  DeltaPHI   PHIND\n",
      "0  SHRIMPLIN       2  77.45       9.9  11.915\n",
      "1  SHRIMPLIN       2  78.26      14.2  12.565\n",
      "2  SHRIMPLIN       2  79.05      14.8  13.050\n",
      "3  SHRIMPLIN       2  86.10      13.9  13.115\n",
      "4  SHRIMPLIN       2  74.58      13.5  13.300\n"
     ]
    }
   ],
   "source": [
    "data = data.loc[:,['Well Name', 'Facies','GR', 'DeltaPHI', 'PHIND']]\n",
    "print(data.head())"
   ]
  },
  {
   "cell_type": "markdown",
   "metadata": {},
   "source": [
    "**<span style=\"color:blue\">6- Write file back to disk as data_clean.csv</span>**\n",
    "\n"
   ]
  },
  {
   "cell_type": "code",
   "execution_count": 41,
   "metadata": {},
   "outputs": [],
   "source": [
    "data.to_csv('data_clean.csv', index=False)"
   ]
  },
  {
   "cell_type": "code",
   "execution_count": 42,
   "metadata": {},
   "outputs": [],
   "source": [
    "FILE_DATA = 'data_clean.csv'\n",
    "TARGET_VAR = 'Facies'\n",
    "FILE_TRAIN = 'facies_train.csv'\n",
    "FILE_VALIDATION = 'facies_validation.csv'\n",
    "FILE_TEST = 'facies_test.csv'\n",
    "Valid_Well_Name = 'SHRIMPLIN'\n",
    "Blind_Well_Name = 'SHANKLE'\n",
    "\n",
    "data_split(FILE_DATA, FILE_TRAIN, FILE_VALIDATION, FILE_TEST, Valid_Well_Name, Blind_Well_Name, TARGET_VAR)"
   ]
  },
  {
   "cell_type": "code",
   "execution_count": 43,
   "metadata": {},
   "outputs": [
    {
     "name": "stdout",
     "output_type": "stream",
     "text": [
      "Writing to s3://osdu-test/public-data/train/facies_train.csv\n",
      "Writing to s3://osdu-test/public-data/validation/facies_validation.csv\n",
      "Writing to s3://osdu-test/public-data/test/facies_test.csv\n"
     ]
    }
   ],
   "source": [
    "# upload the files to the S3 bucket\n",
    "s3_train_loc = upload_to_s3(bucket = bucket, channel = 'train', filename = FILE_TRAIN)\n",
    "s3_valid_loc = upload_to_s3(bucket = bucket, channel = 'validation', filename = FILE_VALIDATION)\n",
    "s3_test_loc = upload_to_s3(bucket = bucket, channel = 'test', filename = FILE_TEST)"
   ]
  },
  {
   "cell_type": "markdown",
   "metadata": {},
   "source": [
    "## Training and deploying the XGBoost model\n",
    "\n",
    "After setting training parameters, we kick off training, and poll for status until training is completed, which in this example, takes between 5 and 6 minutes."
   ]
  },
  {
   "cell_type": "markdown",
   "metadata": {},
   "source": [
    "XGBoost hyperparameter [docs](https://docs.aws.amazon.com/sagemaker/latest/dg/xgboost_hyperparameters.html)."
   ]
  },
  {
   "cell_type": "code",
   "execution_count": 46,
   "metadata": {
    "scrolled": true
   },
   "outputs": [],
   "source": [
    "from sagemaker.amazon.amazon_estimator import get_image_uri \n",
    "container = get_image_uri(boto3.Session().region_name,\n",
    "                          'xgboost', \n",
    "                          repo_version='0.90-1'); \n",
    "xgboost = sagemaker.estimator.Estimator(container,\n",
    "                                       role, \n",
    "                                       train_instance_count=1, \n",
    "                                       train_instance_type='ml.c4.xlarge',\n",
    "                                       output_path='s3://{}/{}/output'.format(bucket, prefix),\n",
    "                                       sagemaker_session=sagemaker.Session())\n",
    "\n",
    "# Set the hyperparameters\n",
    "xgboost.set_hyperparameters(max_depth=3,\n",
    "                        eta=0.2,\n",
    "                        colsample_bytree=0.9,\n",
    "                        gamma=.8,\n",
    "                        min_child_weight=10,\n",
    "                        num_class = len(facies_labels),\n",
    "                        subsample=0.8,\n",
    "                        num_round = 100,\n",
    "                        objective='multi:softmax')\n",
    "\n",
    "# Set the input data formatting and locatiopns\n",
    "s3_input_train = sagemaker.s3_input(s3_data=s3_train_loc, content_type='csv')\n",
    "s3_input_validation = sagemaker.s3_input(s3_data=s3_valid_loc, content_type='csv')"
   ]
  },
  {
   "cell_type": "markdown",
   "metadata": {},
   "source": [
    "**<span style=\"color:blue\">7- Train the model</span>**"
   ]
  },
  {
   "cell_type": "code",
   "execution_count": 47,
   "metadata": {},
   "outputs": [
    {
     "name": "stdout",
     "output_type": "stream",
     "text": [
      "2019-11-22 23:36:25 Starting - Starting the training job...\n",
      "2019-11-22 23:36:26 Starting - Launching requested ML instances......\n",
      "2019-11-22 23:37:30 Starting - Preparing the instances for training......\n",
      "2019-11-22 23:38:38 Downloading - Downloading input data\n",
      "2019-11-22 23:38:38 Training - Downloading the training image...\n",
      "2019-11-22 23:39:17 Uploading - Uploading generated training model\n",
      "2019-11-22 23:39:17 Completed - Training job completed\n",
      "\u001b[31mINFO:sagemaker-containers:Imported framework sagemaker_xgboost_container.training\u001b[0m\n",
      "\u001b[31mINFO:sagemaker-containers:Failed to parse hyperparameter objective value multi:softmax to Json.\u001b[0m\n",
      "\u001b[31mReturning the value itself\u001b[0m\n",
      "\u001b[31mINFO:sagemaker-containers:No GPUs detected (normal if no gpus installed)\u001b[0m\n",
      "\u001b[31mINFO:sagemaker_xgboost_container.training:Running XGBoost Sagemaker in algorithm mode\u001b[0m\n",
      "\u001b[31mINFO:root:Determined delimiter of CSV input is ','\u001b[0m\n",
      "\u001b[31mINFO:root:Determined delimiter of CSV input is ','\u001b[0m\n",
      "\u001b[31mINFO:root:Determined delimiter of CSV input is ','\u001b[0m\n",
      "\u001b[31m[23:39:09] 3229x3 matrix with 9687 entries loaded from /opt/ml/input/data/train?format=csv&label_column=0&delimiter=,\u001b[0m\n",
      "\u001b[31mINFO:root:Determined delimiter of CSV input is ','\u001b[0m\n",
      "\u001b[31m[23:39:09] 471x3 matrix with 1413 entries loaded from /opt/ml/input/data/validation?format=csv&label_column=0&delimiter=,\u001b[0m\n",
      "\u001b[31mINFO:root:Single node training.\u001b[0m\n",
      "\u001b[31mINFO:root:Train matrix has 3229 rows\u001b[0m\n",
      "\u001b[31mINFO:root:Validation matrix has 471 rows\u001b[0m\n",
      "\u001b[31m[0]#011train-merror:0.543202#011validation-merror:0.505308\u001b[0m\n",
      "\u001b[31m[1]#011train-merror:0.529576#011validation-merror:0.490446\u001b[0m\n",
      "\u001b[31m[2]#011train-merror:0.524621#011validation-merror:0.492569\u001b[0m\n",
      "\u001b[31m[3]#011train-merror:0.519975#011validation-merror:0.490446\u001b[0m\n",
      "\u001b[31m[4]#011train-merror:0.521833#011validation-merror:0.498938\u001b[0m\n",
      "\u001b[31m[5]#011train-merror:0.510994#011validation-merror:0.4862\u001b[0m\n",
      "\u001b[31m[6]#011train-merror:0.507587#011validation-merror:0.464968\u001b[0m\n",
      "\u001b[31m[7]#011train-merror:0.504181#011validation-merror:0.467091\u001b[0m\n",
      "\u001b[31m[8]#011train-merror:0.500774#011validation-merror:0.467091\u001b[0m\n",
      "\u001b[31m[9]#011train-merror:0.496129#011validation-merror:0.462845\u001b[0m\n",
      "\u001b[31m[10]#011train-merror:0.497987#011validation-merror:0.464968\u001b[0m\n",
      "\u001b[31m[11]#011train-merror:0.496129#011validation-merror:0.475584\u001b[0m\n",
      "\u001b[31m[12]#011train-merror:0.496439#011validation-merror:0.47983\u001b[0m\n",
      "\u001b[31m[13]#011train-merror:0.493032#011validation-merror:0.47983\u001b[0m\n",
      "\u001b[31m[14]#011train-merror:0.491174#011validation-merror:0.47983\u001b[0m\n",
      "\u001b[31m[15]#011train-merror:0.492722#011validation-merror:0.47983\u001b[0m\n",
      "\u001b[31m[16]#011train-merror:0.491174#011validation-merror:0.477707\u001b[0m\n",
      "\u001b[31m[17]#011train-merror:0.489006#011validation-merror:0.473461\u001b[0m\n",
      "\u001b[31m[18]#011train-merror:0.486528#011validation-merror:0.469214\u001b[0m\n",
      "\u001b[31m[19]#011train-merror:0.487457#011validation-merror:0.464968\u001b[0m\n",
      "\u001b[31m[20]#011train-merror:0.487148#011validation-merror:0.464968\u001b[0m\n",
      "\u001b[31m[21]#011train-merror:0.485909#011validation-merror:0.464968\u001b[0m\n",
      "\u001b[31m[22]#011train-merror:0.486219#011validation-merror:0.462845\u001b[0m\n",
      "\u001b[31m[23]#011train-merror:0.486528#011validation-merror:0.462845\u001b[0m\n",
      "\u001b[31m[24]#011train-merror:0.486528#011validation-merror:0.460722\u001b[0m\n",
      "\u001b[31m[25]#011train-merror:0.485909#011validation-merror:0.462845\u001b[0m\n",
      "\u001b[31m[26]#011train-merror:0.484051#011validation-merror:0.467091\u001b[0m\n",
      "\u001b[31m[27]#011train-merror:0.48467#011validation-merror:0.471338\u001b[0m\n",
      "\u001b[31m[28]#011train-merror:0.484051#011validation-merror:0.471338\u001b[0m\n",
      "\u001b[31m[29]#011train-merror:0.481573#011validation-merror:0.473461\u001b[0m\n",
      "\u001b[31m[30]#011train-merror:0.480644#011validation-merror:0.473461\u001b[0m\n",
      "\u001b[31m[31]#011train-merror:0.481883#011validation-merror:0.475584\u001b[0m\n",
      "\u001b[31m[32]#011train-merror:0.481573#011validation-merror:0.475584\u001b[0m\n",
      "\u001b[31m[33]#011train-merror:0.481883#011validation-merror:0.47983\u001b[0m\n",
      "\u001b[31m[34]#011train-merror:0.480644#011validation-merror:0.47983\u001b[0m\n",
      "\u001b[31m[35]#011train-merror:0.478167#011validation-merror:0.481953\u001b[0m\n",
      "\u001b[31m[36]#011train-merror:0.477238#011validation-merror:0.473461\u001b[0m\n",
      "\u001b[31m[37]#011train-merror:0.478167#011validation-merror:0.471338\u001b[0m\n",
      "\u001b[31m[38]#011train-merror:0.47445#011validation-merror:0.471338\u001b[0m\n",
      "\u001b[31m[39]#011train-merror:0.47445#011validation-merror:0.481953\u001b[0m\n",
      "\u001b[31m[40]#011train-merror:0.473212#011validation-merror:0.47983\u001b[0m\n",
      "\u001b[31m[41]#011train-merror:0.468256#011validation-merror:0.47983\u001b[0m\n",
      "\u001b[31m[42]#011train-merror:0.467327#011validation-merror:0.475584\u001b[0m\n",
      "\u001b[31m[43]#011train-merror:0.46454#011validation-merror:0.475584\u001b[0m\n",
      "\u001b[31m[44]#011train-merror:0.462992#011validation-merror:0.47983\u001b[0m\n",
      "\u001b[31m[45]#011train-merror:0.462992#011validation-merror:0.481953\u001b[0m\n",
      "\u001b[31m[46]#011train-merror:0.460514#011validation-merror:0.47983\u001b[0m\n",
      "\u001b[31m[47]#011train-merror:0.458346#011validation-merror:0.490446\u001b[0m\n",
      "\u001b[31m[48]#011train-merror:0.458656#011validation-merror:0.490446\u001b[0m\n",
      "\u001b[31m[49]#011train-merror:0.457727#011validation-merror:0.494692\u001b[0m\n",
      "\u001b[31m[50]#011train-merror:0.45432#011validation-merror:0.498938\u001b[0m\n",
      "\u001b[31m[51]#011train-merror:0.45494#011validation-merror:0.498938\u001b[0m\n",
      "\u001b[31m[52]#011train-merror:0.452462#011validation-merror:0.501062\u001b[0m\n",
      "\u001b[31m[53]#011train-merror:0.449365#011validation-merror:0.501062\u001b[0m\n",
      "\u001b[31m[54]#011train-merror:0.448436#011validation-merror:0.496815\u001b[0m\n",
      "\u001b[31m[55]#011train-merror:0.449675#011validation-merror:0.498938\u001b[0m\n",
      "\u001b[31m[56]#011train-merror:0.445958#011validation-merror:0.498938\u001b[0m\n",
      "\u001b[31m[57]#011train-merror:0.443171#011validation-merror:0.505308\u001b[0m\n",
      "\u001b[31m[58]#011train-merror:0.441623#011validation-merror:0.511677\u001b[0m\n",
      "\u001b[31m[59]#011train-merror:0.438836#011validation-merror:0.507431\u001b[0m\n",
      "\u001b[31m[60]#011train-merror:0.437597#011validation-merror:0.507431\u001b[0m\n",
      "\u001b[31m[61]#011train-merror:0.436668#011validation-merror:0.507431\u001b[0m\n",
      "\u001b[31m[62]#011train-merror:0.437906#011validation-merror:0.505308\u001b[0m\n",
      "\u001b[31m[63]#011train-merror:0.436048#011validation-merror:0.509554\u001b[0m\n",
      "\u001b[31m[64]#011train-merror:0.43481#011validation-merror:0.509554\u001b[0m\n",
      "\u001b[31m[65]#011train-merror:0.43419#011validation-merror:0.511677\u001b[0m\n",
      "\u001b[31m[66]#011train-merror:0.433261#011validation-merror:0.509554\u001b[0m\n",
      "\u001b[31m[67]#011train-merror:0.430474#011validation-merror:0.505308\u001b[0m\n",
      "\u001b[31m[68]#011train-merror:0.428616#011validation-merror:0.503185\u001b[0m\n",
      "\u001b[31m[69]#011train-merror:0.428925#011validation-merror:0.501062\u001b[0m\n",
      "\u001b[31m[70]#011train-merror:0.427377#011validation-merror:0.503185\u001b[0m\n",
      "\u001b[31m[71]#011train-merror:0.427067#011validation-merror:0.503185\u001b[0m\n",
      "\u001b[31m[72]#011train-merror:0.42397#011validation-merror:0.509554\u001b[0m\n",
      "\u001b[31m[73]#011train-merror:0.422731#011validation-merror:0.509554\u001b[0m\n",
      "\u001b[31m[74]#011train-merror:0.419944#011validation-merror:0.509554\u001b[0m\n",
      "\u001b[31m[75]#011train-merror:0.419635#011validation-merror:0.511677\u001b[0m\n",
      "\u001b[31m[76]#011train-merror:0.418705#011validation-merror:0.511677\u001b[0m\n",
      "\u001b[31m[77]#011train-merror:0.419015#011validation-merror:0.509554\u001b[0m\n",
      "\u001b[31m[78]#011train-merror:0.419015#011validation-merror:0.511677\u001b[0m\n",
      "\u001b[31m[79]#011train-merror:0.414679#011validation-merror:0.511677\u001b[0m\n",
      "\u001b[31m[80]#011train-merror:0.415609#011validation-merror:0.507431\u001b[0m\n",
      "\u001b[31m[81]#011train-merror:0.414989#011validation-merror:0.505308\u001b[0m\n",
      "\u001b[31m[82]#011train-merror:0.41406#011validation-merror:0.509554\u001b[0m\n",
      "\u001b[31m[83]#011train-merror:0.412512#011validation-merror:0.509554\u001b[0m\n",
      "\u001b[31m[84]#011train-merror:0.410653#011validation-merror:0.511677\u001b[0m\n",
      "\u001b[31m[85]#011train-merror:0.408486#011validation-merror:0.5138\u001b[0m\n",
      "\u001b[31m[86]#011train-merror:0.406937#011validation-merror:0.515924\u001b[0m\n",
      "\u001b[31m[87]#011train-merror:0.403531#011validation-merror:0.5138\u001b[0m\n",
      "\u001b[31m[88]#011train-merror:0.40415#011validation-merror:0.518047\u001b[0m\n",
      "\u001b[31m[89]#011train-merror:0.401982#011validation-merror:0.511677\u001b[0m\n",
      "\u001b[31m[90]#011train-merror:0.401672#011validation-merror:0.5138\u001b[0m\n",
      "\u001b[31m[91]#011train-merror:0.397646#011validation-merror:0.511677\u001b[0m\n",
      "\u001b[31m[92]#011train-merror:0.399195#011validation-merror:0.5138\u001b[0m\n",
      "\u001b[31m[93]#011train-merror:0.397956#011validation-merror:0.515924\u001b[0m\n",
      "\u001b[31m[94]#011train-merror:0.396717#011validation-merror:0.52017\u001b[0m\n",
      "\u001b[31m[95]#011train-merror:0.396408#011validation-merror:0.52017\u001b[0m\n",
      "\u001b[31m[96]#011train-merror:0.392072#011validation-merror:0.518047\u001b[0m\n",
      "\u001b[31m[97]#011train-merror:0.391143#011validation-merror:0.522293\u001b[0m\n",
      "\u001b[31m[98]#011train-merror:0.390833#011validation-merror:0.524416\u001b[0m\n",
      "\u001b[31m[99]#011train-merror:0.388665#011validation-merror:0.518047\u001b[0m\n"
     ]
    },
    {
     "name": "stdout",
     "output_type": "stream",
     "text": [
      "Training seconds: 50\n",
      "Billable seconds: 50\n"
     ]
    }
   ],
   "source": [
    "xgboost.fit({'train': s3_input_train, 'validation': s3_input_validation})"
   ]
  },
  {
   "cell_type": "markdown",
   "metadata": {},
   "source": [
    "**<span style=\"color:blue\">8- Deploy the model</span>**"
   ]
  },
  {
   "cell_type": "code",
   "execution_count": 48,
   "metadata": {
    "scrolled": true
   },
   "outputs": [
    {
     "name": "stdout",
     "output_type": "stream",
     "text": [
      "---------------------------------------------------------------------------------------------------------------!"
     ]
    }
   ],
   "source": [
    "xgboost_predictor = xgboost.deploy(initial_instance_count=1, instance_type='ml.m4.xlarge')"
   ]
  },
  {
   "cell_type": "markdown",
   "metadata": {},
   "source": [
    "## Make Prediction Using Your Model\n",
    "Finally, the customer can now validate the model for use. They can obtain the endpoint from the client library using the result from previous operations, and generate classifications from the trained model using that endpoint.\n"
   ]
  },
  {
   "cell_type": "code",
   "execution_count": 49,
   "metadata": {},
   "outputs": [
    {
     "name": "stderr",
     "output_type": "stream",
     "text": [
      "/home/ec2-user/anaconda3/envs/python3/lib/python3.6/site-packages/ipykernel/__main__.py:3: FutureWarning: Method .as_matrix will be removed in a future version. Use .values instead.\n",
      "  app.launch_new_instance()\n"
     ]
    }
   ],
   "source": [
    "test_data = pd.read_csv(FILE_TEST, header=None)\n",
    "labels = data.iloc[:,0]  # labels data\n",
    "predictions = predict(test_data.as_matrix()[:, 1:])+1. # Note that we are not using the first column, which is the label"
   ]
  },
  {
   "cell_type": "code",
   "execution_count": 50,
   "metadata": {
    "scrolled": true
   },
   "outputs": [
    {
     "name": "stderr",
     "output_type": "stream",
     "text": [
      "/home/ec2-user/anaconda3/envs/python3/lib/python3.6/site-packages/ipykernel/__main__.py:3: SettingWithCopyWarning: \n",
      "A value is trying to be set on a copy of a slice from a DataFrame.\n",
      "Try using .loc[row_indexer,col_indexer] = value instead\n",
      "\n",
      "See the caveats in the documentation: http://pandas.pydata.org/pandas-docs/stable/indexing.html#indexing-view-versus-copy\n",
      "  app.launch_new_instance()\n"
     ]
    }
   ],
   "source": [
    "data = pd.read_csv('data.csv')\n",
    "Blindwell = data[data['Well Name'] == Blind_Well_Name]\n",
    "Blindwell['Pred_Facies'] = predictions"
   ]
  },
  {
   "cell_type": "markdown",
   "metadata": {},
   "source": [
    "**<span style=\"color:blue\">9- Display your results</span>**"
   ]
  },
  {
   "cell_type": "code",
   "execution_count": 51,
   "metadata": {},
   "outputs": [
    {
     "data": {
      "image/png": "[encoded data removed]",
      "text/plain": [
       "<Figure size 648x864 with 7 Axes>"
      ]
     },
     "metadata": {},
     "output_type": "display_data"
    }
   ],
   "source": [
    "compare_facies_plot(Blindwell, 'Pred_Facies', facies_colors)"
   ]
  },
  {
   "cell_type": "markdown",
   "metadata": {},
   "source": [
    "### (Optional) Delete the Endpoint\n",
    "If you're ready to be done with this notebook, make sure run the cell below.  This will remove the hosted endpoint you created and avoid any charges from a stray instance being left on."
   ]
  },
  {
   "cell_type": "code",
   "execution_count": null,
   "metadata": {},
   "outputs": [],
   "source": [
    "# print(xgboost_predictor.endpoint)\n",
    "\n",
    "# import sagemaker\n",
    "# sagemaker.Session().delete_endpoint(xgboost_predictor.endpoint)"
   ]
  }
 ],
 "metadata": {
  "anaconda-cloud": {},
  "kernelspec": {
   "display_name": "Python 3",
   "language": "python",
   "name": "python3"
  },
  "language_info": {
   "codemirror_mode": {
    "name": "ipython",
    "version": 3
   },
   "file_extension": ".py",
   "mimetype": "text/x-python",
   "name": "python",
   "nbconvert_exporter": "python",
   "pygments_lexer": "ipython3",
   "version": "3.7.3"
  }
 },
 "nbformat": 4,
 "nbformat_minor": 2
}
