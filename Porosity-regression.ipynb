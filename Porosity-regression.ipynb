{
 "cells": [
  {
   "cell_type": "markdown",
   "metadata": {},
   "source": [
    "# Petrophysical Modeling with Amazon SageMaker XGBoost algorithm\n",
    "_**Single machine training for regression with Amazon SageMaker XGBoost algorithm**_\n",
    "\n",
    "---\n",
    "\n",
    "---\n",
    "## Contents\n",
    "1. [Introduction](#Introduction)\n",
    "2. [Setup](#Setup)\n",
    "  1. [Fetching the dataset](#Fetching-the-dataset)\n",
    "  2. [Data Ingestion](#Data-ingestion)\n",
    "3. [Training the XGBoost model](#Training-the-XGBoost-model)\n",
    "4. [Set up hosting for the model](#Set-up-hosting-for-the-model)\n",
    "  1. [Import model into hosting](#Import-model-into-hosting)\n",
    "  2. [Create endpoint configuration](#Create-endpoint-configuration)\n",
    "  3. [Create endpoint](#Create-endpoint)\n",
    "5. [Validate the model for use](#Validate-the-model-for-use)\n",
    "\n",
    "---\n",
    "## Introduction\n",
    "\n",
    "This notebook demonstrates the use of Amazon SageMaker's implementation of the XGBoost algorithm to train and host a regression model for prediction of porosity from other well log measurements. \n",
    "\n",
    "> A Jupyter Notebook is an open-source web application that allows you to create and share documents that contain live code, equations, visualizations and narrative text. - http://jupyter.org/\n",
    "\n",
    "The dataset is log data from nine wells, with 5 wireline log measurements, two indicator variables and a facies label at half foot intervals. The seven predictor variables are:\n",
    "\n",
    "Five wireline log curves including: \n",
    "\n",
    "- Gamma ray (GR)\n",
    "- Resistivity logging (ILD_log10)\n",
    "- Photoelectric effect (PE) - Note, some wells do not have PE.\n",
    "- Neutron-density porosity difference \n",
    "- Average neutron-density porosity (DeltaPHI and PHIND)\n",
    "\n",
    "Two geologic constraining variables: \n",
    "\n",
    "- Nonmarine-marine indicator (NM_M) \n",
    "- Relative position (RELPOS)\n",
    "\n",
    "We will focus on these logs: GR, ILD_log10, DeltaPH, PHIND, where we try to predict PHIND by training using 7 wells, 1 validation well, and one well for blind test. \n",
    "\n",
    "The dataset comes from a class exercise from The University of Kansas on Neural Networks and Fuzzy Systems. This exercise is based on a consortium project to use machine learning techniques to create a reservoir model of the largest gas fields in North America, the Hugoton and Panoma Fields. For more info on the origin of the data, see Bohling and Dubois (2003) and Dubois et al. (2007).\n",
    "\n",
    "---\n",
    "## Setup\n",
    "\n",
    "\n",
    "This notebook was created and tested on an ml.m4.4xlarge notebook instance.\n",
    "\n",
    "Let's start by specifying:\n",
    "1. The S3 bucket and prefix that you want to use for training and model data. This should be within the same region as the Notebook Instance, training, and hosting.\n",
    "1. The IAM role arn used to give training and hosting access to your data. See the documentation for how to create these. Note, if more than one role is required for notebook instances, training, and/or hosting, please replace the boto regexp with a the appropriate full IAM role arn string(s)."
   ]
  },
  {
   "cell_type": "code",
   "execution_count": 69,
   "metadata": {
    "isConfigCell": true
   },
   "outputs": [
    {
     "name": "stdout",
     "output_type": "stream",
     "text": [
      "CPU times: user 48 ms, sys: 0 ns, total: 48 ms\n",
      "Wall time: 65.4 ms\n"
     ]
    }
   ],
   "source": [
    "%%time\n",
    "\n",
    "import os\n",
    "import boto3\n",
    "import re\n",
    "from sagemaker import get_execution_role\n",
    "\n",
    "role = get_execution_role()\n",
    "region = boto3.Session().region_name\n",
    "bucket='<your bucket name>' # put your s3 bucket name here, and create s3 bucket\n",
    "prefix = 'public-data-example/high-level'\n",
    "\n",
    "bucket_path = 'https://s3-{}.amazonaws.com/{}'.format(region,bucket)"
   ]
  },
  {
   "cell_type": "markdown",
   "metadata": {},
   "source": [
    "### Fetching the dataset\n",
    "\n",
    "Following methods split the data into train/test/validation datasets and upload files to S3."
   ]
  },
  {
   "cell_type": "code",
   "execution_count": 70,
   "metadata": {},
   "outputs": [
    {
     "name": "stdout",
     "output_type": "stream",
     "text": [
      "CPU times: user 0 ns, sys: 0 ns, total: 0 ns\n",
      "Wall time: 20.7 µs\n"
     ]
    }
   ],
   "source": [
    "%%time\n",
    "\n",
    "import io\n",
    "import boto3\n",
    "import random\n",
    "\n",
    "def data_split(FILE_DATA, FILE_TRAIN, FILE_VALIDATION, FILE_TEST, Valid_Well_Name, Blind_Well_Name, TARGET_VAR):\n",
    "    data = pd.read_csv(FILE_DATA)\n",
    "    n = data.shape[0]\n",
    "    \n",
    "    # Make the first column the target feature    \n",
    "    cols = data.columns.tolist()\n",
    "    target_pos = data.columns.get_loc(TARGET_VAR)\n",
    "    cols.pop(target_pos)\n",
    "    cols = [TARGET_VAR] + cols\n",
    "    data = data.loc[:,cols]\n",
    "                \n",
    "    # Remove target colun from test set\n",
    "    #test_data = test_data.drop([TARGET_VAR], axis=1)\n",
    "\n",
    "    # Split data\n",
    "    test_data = data[data['Well Name'] == Blind_Well_Name]\n",
    "    test_data = test_data.drop(['Well Name'], axis=1)\n",
    "    \n",
    "    valid_data = data[data['Well Name'] == Valid_Well_Name]\n",
    "    valid_data = valid_data.drop(['Well Name'], axis=1)\n",
    "\n",
    "    train_data = data[data['Well Name'] != Blind_Well_Name]\n",
    "    train_data = train_data[train_data['Well Name'] != Valid_Well_Name]\n",
    "\n",
    "    train_data = train_data.drop(['Well Name'], axis=1)\n",
    "\n",
    "    train_data.to_csv(FILE_TRAIN, index=False, header=False)\n",
    "    valid_data.to_csv(FILE_VALIDATION, index=False, header=False)\n",
    "    test_data.to_csv(FILE_TEST, index=False, header=False)\n",
    "    \n",
    "def write_to_s3(fobj, bucket, key):\n",
    "    return boto3.Session().resource('s3').Bucket(bucket).Object(key).upload_fileobj(fobj)\n",
    "\n",
    "def upload_to_s3(bucket, channel, filename):\n",
    "    fobj=open(filename, 'rb')\n",
    "    key = prefix+'/'+channel+'/'+filename\n",
    "    url = 's3://{}/{}'.format(bucket, key)\n",
    "    print('Writing to {}'.format(url))\n",
    "    write_to_s3(fobj, bucket, key)     \n",
    "    return(url)\n"
   ]
  },
  {
   "cell_type": "markdown",
   "metadata": {},
   "source": [
    "### Data ingestion\n",
    "\n",
    "Next, we read the dataset from the existing repository into memory, for preprocessing prior to training. This processing could be done *in situ* by Amazon Athena, Apache Spark in Amazon EMR, Amazon Redshift, etc., assuming the dataset is present in the appropriate location. Then, the next step would be to transfer the data to S3 for use in training. For small datasets, such as this one, reading into memory isn't onerous, though it would be for larger datasets."
   ]
  },
  {
   "cell_type": "markdown",
   "metadata": {},
   "source": [
    "When using the csv option, here is the critical piece of information about the data format:\n",
    "\n",
    "> For CSV training, the algorithm assumes that the target variable is in the first column and that the CSV does not have a header record. For CSV inference, the algorithm assumes that CSV input does not have the label column.\n",
    "\n",
    "[Source](https://docs.aws.amazon.com/sagemaker/latest/dg/xgboost.html)"
   ]
  },
  {
   "cell_type": "code",
   "execution_count": 71,
   "metadata": {
    "collapsed": true
   },
   "outputs": [],
   "source": [
    "# Remove non-numeric columns\n",
    "import pandas as pd\n",
    "data = pd.read_csv('facies_vectors.csv')\n",
    "# Remove rows with missing values\n",
    "data.dropna(inplace=True)\n",
    "\n",
    "data['Well Name'].unique()\n",
    "data = data.loc[:,['Well Name', 'GR', 'ILD_log10', 'DeltaPHI', 'PHIND']]\n",
    "\n",
    "\n",
    "# Write file back to disk\n",
    "data.to_csv('facies_num.csv', index=False)"
   ]
  },
  {
   "cell_type": "code",
   "execution_count": 79,
   "metadata": {
    "collapsed": true
   },
   "outputs": [],
   "source": [
    "FILE_DATA = 'facies_num.csv'\n",
    "TARGET_VAR = 'PHIND'\n",
    "FILE_TRAIN = 'facies_train.csv'\n",
    "FILE_VALIDATION = 'facies_validation.csv'\n",
    "FILE_TEST = 'facies_test.csv'\n",
    "Valid_Well_Name = 'SHRIMPLIN'\n",
    "Blind_Well_Name = 'SHANKLE'\n",
    "\n",
    "data_split(FILE_DATA, FILE_TRAIN, FILE_VALIDATION, FILE_TEST, Valid_Well_Name, Blind_Well_Name, TARGET_VAR)"
   ]
  },
  {
   "cell_type": "code",
   "execution_count": 80,
   "metadata": {},
   "outputs": [
    {
     "name": "stdout",
     "output_type": "stream",
     "text": [
      "Writing to s3://sdu-sagemaker-workshop/public-data-example/high-level/train/facies_train.csv\n",
      "Writing to s3://sdu-sagemaker-workshop/public-data-example/high-level/validation/facies_validation.csv\n",
      "Writing to s3://sdu-sagemaker-workshop/public-data-example/high-level/test/facies_test.csv\n"
     ]
    }
   ],
   "source": [
    "# upload the files to the S3 bucket\n",
    "s3_train_loc = upload_to_s3(bucket = bucket, channel = 'train', filename = FILE_TRAIN)\n",
    "s3_valid_loc = upload_to_s3(bucket = bucket, channel = 'validation', filename = FILE_VALIDATION)\n",
    "s3_test_loc = upload_to_s3(bucket = bucket, channel = 'test', filename = FILE_TEST)"
   ]
  },
  {
   "cell_type": "markdown",
   "metadata": {},
   "source": [
    "## Training the XGBoost model\n",
    "\n",
    "After setting training parameters, we kick off training, and poll for status until training is completed, which in this example, takes between 5 and 6 minutes."
   ]
  },
  {
   "cell_type": "markdown",
   "metadata": {},
   "source": [
    "XGBoost hyperparameter [docs](https://docs.aws.amazon.com/sagemaker/latest/dg/xgboost_hyperparameters.html)."
   ]
  },
  {
   "cell_type": "code",
   "execution_count": 74,
   "metadata": {
    "scrolled": true
   },
   "outputs": [
    {
     "name": "stderr",
     "output_type": "stream",
     "text": [
      "INFO:sagemaker:Creating training-job with name: xgboost-2018-02-26-21-18-06-670\n"
     ]
    },
    {
     "name": "stdout",
     "output_type": "stream",
     "text": [
      "..........................................................................\n",
      "\u001b[31mArguments: train\u001b[0m\n",
      "\u001b[31m[2018-02-26:21:24:08:INFO] Running standalone xgboost training.\u001b[0m\n",
      "\u001b[31m[2018-02-26:21:24:08:INFO] File size need to be processed in the node: 0.08mb. Available memory size in the node: 119.04mb\u001b[0m\n",
      "\u001b[31m/opt/amazon/lib/python2.7/site-packages/sage_xgboost/train_helper.py:315: ParserWarning: Falling back to the 'python' engine because the 'c' engine does not support sep=None with delim_whitespace=False; you can avoid this warning by specifying engine='python'.\n",
      "  df = pd.read_csv(os.path.join(files_path, csv_file), sep=None, header=None)\u001b[0m\n",
      "\u001b[31m[21:24:08] src/tree/updater_prune.cc:74: tree pruning end, 1 roots, 44 extra nodes, 0 pruned nodes, max_depth=5\u001b[0m\n",
      "\u001b[31m[0]#011train-rmse:12.7365#011validation-rmse:10.3671\u001b[0m\n",
      "\u001b[31m[21:24:08] src/tree/updater_prune.cc:74: tree pruning end, 1 roots, 44 extra nodes, 4 pruned nodes, max_depth=5\u001b[0m\n",
      "\u001b[31m[1]#011train-rmse:10.6297#011validation-rmse:8.41221\u001b[0m\n",
      "\u001b[31m[21:24:08] src/tree/updater_prune.cc:74: tree pruning end, 1 roots, 48 extra nodes, 0 pruned nodes, max_depth=5\u001b[0m\n",
      "\u001b[31m[2]#011train-rmse:8.98395#011validation-rmse:6.94728\u001b[0m\n",
      "\u001b[31m[21:24:08] src/tree/updater_prune.cc:74: tree pruning end, 1 roots, 44 extra nodes, 0 pruned nodes, max_depth=5\u001b[0m\n",
      "\u001b[31m[3]#011train-rmse:7.74283#011validation-rmse:5.77256\u001b[0m\n",
      "\u001b[31m[21:24:08] src/tree/updater_prune.cc:74: tree pruning end, 1 roots, 48 extra nodes, 2 pruned nodes, max_depth=5\u001b[0m\n",
      "\u001b[31m[4]#011train-rmse:6.81365#011validation-rmse:4.91322\u001b[0m\n",
      "\u001b[31m[21:24:08] src/tree/updater_prune.cc:74: tree pruning end, 1 roots, 50 extra nodes, 0 pruned nodes, max_depth=5\u001b[0m\n",
      "\u001b[31m[5]#011train-rmse:6.11486#011validation-rmse:4.3039\u001b[0m\n",
      "\u001b[31m[21:24:08] src/tree/updater_prune.cc:74: tree pruning end, 1 roots, 44 extra nodes, 0 pruned nodes, max_depth=5\u001b[0m\n",
      "\u001b[31m[6]#011train-rmse:5.61977#011validation-rmse:3.90721\u001b[0m\n",
      "\u001b[31m[21:24:08] src/tree/updater_prune.cc:74: tree pruning end, 1 roots, 46 extra nodes, 2 pruned nodes, max_depth=5\u001b[0m\n",
      "\u001b[31m[7]#011train-rmse:5.27602#011validation-rmse:3.64686\u001b[0m\n",
      "\u001b[31m[21:24:08] src/tree/updater_prune.cc:74: tree pruning end, 1 roots, 44 extra nodes, 0 pruned nodes, max_depth=5\u001b[0m\n",
      "\u001b[31m[8]#011train-rmse:5.01328#011validation-rmse:3.46953\u001b[0m\n",
      "\u001b[31m[21:24:08] src/tree/updater_prune.cc:74: tree pruning end, 1 roots, 46 extra nodes, 2 pruned nodes, max_depth=5\u001b[0m\n",
      "\u001b[31m[9]#011train-rmse:4.82495#011validation-rmse:3.31564\u001b[0m\n",
      "\u001b[31m[21:24:08] src/tree/updater_prune.cc:74: tree pruning end, 1 roots, 52 extra nodes, 0 pruned nodes, max_depth=5\u001b[0m\n",
      "\u001b[31m[10]#011train-rmse:4.65215#011validation-rmse:3.25723\u001b[0m\n",
      "\u001b[31m[21:24:08] src/tree/updater_prune.cc:74: tree pruning end, 1 roots, 46 extra nodes, 2 pruned nodes, max_depth=5\u001b[0m\n",
      "\u001b[31m[11]#011train-rmse:4.54501#011validation-rmse:3.14223\u001b[0m\n",
      "\u001b[31m[21:24:08] src/tree/updater_prune.cc:74: tree pruning end, 1 roots, 34 extra nodes, 0 pruned nodes, max_depth=5\u001b[0m\n",
      "\u001b[31m[12]#011train-rmse:4.46037#011validation-rmse:3.19204\u001b[0m\n",
      "\u001b[31m[21:24:08] src/tree/updater_prune.cc:74: tree pruning end, 1 roots, 28 extra nodes, 0 pruned nodes, max_depth=5\u001b[0m\n",
      "\u001b[31m[13]#011train-rmse:4.40771#011validation-rmse:3.20033\u001b[0m\n",
      "\u001b[31m[21:24:08] src/tree/updater_prune.cc:74: tree pruning end, 1 roots, 48 extra nodes, 0 pruned nodes, max_depth=5\u001b[0m\n",
      "\u001b[31m[14]#011train-rmse:4.33157#011validation-rmse:3.25724\u001b[0m\n",
      "\u001b[31m[21:24:08] src/tree/updater_prune.cc:74: tree pruning end, 1 roots, 34 extra nodes, 0 pruned nodes, max_depth=5\u001b[0m\n",
      "\u001b[31m[15]#011train-rmse:4.28705#011validation-rmse:3.25633\u001b[0m\n",
      "\u001b[31m[21:24:08] src/tree/updater_prune.cc:74: tree pruning end, 1 roots, 30 extra nodes, 0 pruned nodes, max_depth=5\u001b[0m\n",
      "\u001b[31m[16]#011train-rmse:4.25125#011validation-rmse:3.27699\u001b[0m\n",
      "\u001b[31m[21:24:08] src/tree/updater_prune.cc:74: tree pruning end, 1 roots, 46 extra nodes, 0 pruned nodes, max_depth=5\u001b[0m\n",
      "\u001b[31m[17]#011train-rmse:4.21981#011validation-rmse:3.27315\u001b[0m\n",
      "\u001b[31m[21:24:08] src/tree/updater_prune.cc:74: tree pruning end, 1 roots, 20 extra nodes, 0 pruned nodes, max_depth=5\u001b[0m\n",
      "\u001b[31m[18]#011train-rmse:4.20566#011validation-rmse:3.27441\u001b[0m\n",
      "\u001b[31m[21:24:08] src/tree/updater_prune.cc:74: tree pruning end, 1 roots, 26 extra nodes, 0 pruned nodes, max_depth=5\u001b[0m\n",
      "\u001b[31m[19]#011train-rmse:4.18117#011validation-rmse:3.2432\u001b[0m\n",
      "\u001b[31m[21:24:08] src/tree/updater_prune.cc:74: tree pruning end, 1 roots, 38 extra nodes, 0 pruned nodes, max_depth=5\u001b[0m\n",
      "\u001b[31m[20]#011train-rmse:4.1414#011validation-rmse:3.25923\u001b[0m\n",
      "\u001b[31m[21:24:08] src/tree/updater_prune.cc:74: tree pruning end, 1 roots, 28 extra nodes, 0 pruned nodes, max_depth=5\u001b[0m\n",
      "\u001b[31m[21]#011train-rmse:4.09368#011validation-rmse:3.25351\u001b[0m\n",
      "\u001b[31m[21:24:08] src/tree/updater_prune.cc:74: tree pruning end, 1 roots, 26 extra nodes, 0 pruned nodes, max_depth=5\u001b[0m\n",
      "\u001b[31m[22]#011train-rmse:4.07907#011validation-rmse:3.25132\u001b[0m\n",
      "\u001b[31m[21:24:08] src/tree/updater_prune.cc:74: tree pruning end, 1 roots, 44 extra nodes, 2 pruned nodes, max_depth=5\u001b[0m\n",
      "\u001b[31m[23]#011train-rmse:4.06387#011validation-rmse:3.25922\u001b[0m\n",
      "\u001b[31m[21:24:08] src/tree/updater_prune.cc:74: tree pruning end, 1 roots, 26 extra nodes, 2 pruned nodes, max_depth=5\u001b[0m\n",
      "\u001b[31m[24]#011train-rmse:4.04365#011validation-rmse:3.25347\u001b[0m\n",
      "\u001b[31m[21:24:08] src/tree/updater_prune.cc:74: tree pruning end, 1 roots, 22 extra nodes, 0 pruned nodes, max_depth=5\u001b[0m\n",
      "\u001b[31m[25]#011train-rmse:4.02927#011validation-rmse:3.23027\u001b[0m\n",
      "\u001b[31m[21:24:08] src/tree/updater_prune.cc:74: tree pruning end, 1 roots, 28 extra nodes, 0 pruned nodes, max_depth=5\u001b[0m\n",
      "\u001b[31m[26]#011train-rmse:4.01589#011validation-rmse:3.22332\u001b[0m\n",
      "\u001b[31m[21:24:08] src/tree/updater_prune.cc:74: tree pruning end, 1 roots, 44 extra nodes, 0 pruned nodes, max_depth=5\u001b[0m\n",
      "\u001b[31m[27]#011train-rmse:3.97501#011validation-rmse:3.22808\u001b[0m\n",
      "\u001b[31m[21:24:08] src/tree/updater_prune.cc:74: tree pruning end, 1 roots, 28 extra nodes, 2 pruned nodes, max_depth=5\u001b[0m\n",
      "\u001b[31m[28]#011train-rmse:3.95058#011validation-rmse:3.22111\u001b[0m\n",
      "\u001b[31m[21:24:08] src/tree/updater_prune.cc:74: tree pruning end, 1 roots, 26 extra nodes, 4 pruned nodes, max_depth=5\u001b[0m\n",
      "\u001b[31m[29]#011train-rmse:3.94366#011validation-rmse:3.24861\u001b[0m\n",
      "\u001b[31m[21:24:08] src/tree/updater_prune.cc:74: tree pruning end, 1 roots, 52 extra nodes, 0 pruned nodes, max_depth=5\u001b[0m\n",
      "\u001b[31m[30]#011train-rmse:3.91894#011validation-rmse:3.22687\u001b[0m\n",
      "\u001b[31m[21:24:08] src/tree/updater_prune.cc:74: tree pruning end, 1 roots, 44 extra nodes, 0 pruned nodes, max_depth=5\u001b[0m\n",
      "\u001b[31m[31]#011train-rmse:3.88849#011validation-rmse:3.25043\u001b[0m\n",
      "\u001b[31m[21:24:08] src/tree/updater_prune.cc:74: tree pruning end, 1 roots, 20 extra nodes, 2 pruned nodes, max_depth=5\u001b[0m\n",
      "\u001b[31m[32]#011train-rmse:3.87849#011validation-rmse:3.25376\u001b[0m\n",
      "\u001b[31m[21:24:08] src/tree/updater_prune.cc:74: tree pruning end, 1 roots, 36 extra nodes, 0 pruned nodes, max_depth=5\u001b[0m\n",
      "\u001b[31m[33]#011train-rmse:3.84933#011validation-rmse:3.28974\u001b[0m\n",
      "\u001b[31m[21:24:08] src/tree/updater_prune.cc:74: tree pruning end, 1 roots, 40 extra nodes, 2 pruned nodes, max_depth=5\u001b[0m\n",
      "\u001b[31m[34]#011train-rmse:3.82411#011validation-rmse:3.30678\u001b[0m\n",
      "\u001b[31m[21:24:08] src/tree/updater_prune.cc:74: tree pruning end, 1 roots, 32 extra nodes, 0 pruned nodes, max_depth=5\u001b[0m\n",
      "\u001b[31m[35]#011train-rmse:3.78962#011validation-rmse:3.31324\u001b[0m\n",
      "\u001b[31m[21:24:08] src/tree/updater_prune.cc:74: tree pruning end, 1 roots, 50 extra nodes, 0 pruned nodes, max_depth=5\u001b[0m\n",
      "\u001b[31m[36]#011train-rmse:3.75606#011validation-rmse:3.38563\u001b[0m\n",
      "\u001b[31m[21:24:08] src/tree/updater_prune.cc:74: tree pruning end, 1 roots, 34 extra nodes, 2 pruned nodes, max_depth=5\u001b[0m\n",
      "\u001b[31m[37]#011train-rmse:3.73819#011validation-rmse:3.45622\u001b[0m\n",
      "\u001b[31m[21:24:08] src/tree/updater_prune.cc:74: tree pruning end, 1 roots, 32 extra nodes, 0 pruned nodes, max_depth=5\u001b[0m\n",
      "\u001b[31m[38]#011train-rmse:3.72933#011validation-rmse:3.45259\u001b[0m\n",
      "\u001b[31m[21:24:08] src/tree/updater_prune.cc:74: tree pruning end, 1 roots, 28 extra nodes, 2 pruned nodes, max_depth=5\u001b[0m\n",
      "\u001b[31m[39]#011train-rmse:3.7187#011validation-rmse:3.47441\u001b[0m\n",
      "\u001b[31m[21:24:08] src/tree/updater_prune.cc:74: tree pruning end, 1 roots, 32 extra nodes, 0 pruned nodes, max_depth=5\u001b[0m\n",
      "\u001b[31m[40]#011train-rmse:3.70401#011validation-rmse:3.47735\u001b[0m\n",
      "\u001b[31m[21:24:08] src/tree/updater_prune.cc:74: tree pruning end, 1 roots, 34 extra nodes, 0 pruned nodes, max_depth=5\u001b[0m\n",
      "\u001b[31m[41]#011train-rmse:3.6861#011validation-rmse:3.54575\u001b[0m\n",
      "\u001b[31m[21:24:08] src/tree/updater_prune.cc:74: tree pruning end, 1 roots, 44 extra nodes, 0 pruned nodes, max_depth=5\u001b[0m\n",
      "\u001b[31m[42]#011train-rmse:3.65599#011validation-rmse:3.57167\u001b[0m\n",
      "\u001b[31m[21:24:08] src/tree/updater_prune.cc:74: tree pruning end, 1 roots, 18 extra nodes, 0 pruned nodes, max_depth=5\u001b[0m\n",
      "\u001b[31m[43]#011train-rmse:3.64588#011validation-rmse:3.58032\u001b[0m\n",
      "\u001b[31m[21:24:08] src/tree/updater_prune.cc:74: tree pruning end, 1 roots, 44 extra nodes, 0 pruned nodes, max_depth=5\u001b[0m\n",
      "\u001b[31m[44]#011train-rmse:3.61952#011validation-rmse:3.59079\u001b[0m\n",
      "\u001b[31m[21:24:08] src/tree/updater_prune.cc:74: tree pruning end, 1 roots, 34 extra nodes, 0 pruned nodes, max_depth=5\u001b[0m\n",
      "\u001b[31m[45]#011train-rmse:3.59404#011validation-rmse:3.60273\u001b[0m\n",
      "\u001b[31m[21:24:08] src/tree/updater_prune.cc:74: tree pruning end, 1 roots, 18 extra nodes, 0 pruned nodes, max_depth=5\u001b[0m\n",
      "\u001b[31m[46]#011train-rmse:3.58877#011validation-rmse:3.59969\u001b[0m\n",
      "\u001b[31m[21:24:08] src/tree/updater_prune.cc:74: tree pruning end, 1 roots, 36 extra nodes, 0 pruned nodes, max_depth=5\u001b[0m\n",
      "\u001b[31m[47]#011train-rmse:3.57503#011validation-rmse:3.59636\u001b[0m\n",
      "\u001b[31m[21:24:08] src/tree/updater_prune.cc:74: tree pruning end, 1 roots, 32 extra nodes, 0 pruned nodes, max_depth=5\u001b[0m\n",
      "\u001b[31m[48]#011train-rmse:3.56539#011validation-rmse:3.61552\u001b[0m\n",
      "\u001b[31m[21:24:08] src/tree/updater_prune.cc:74: tree pruning end, 1 roots, 42 extra nodes, 2 pruned nodes, max_depth=5\u001b[0m\n",
      "\u001b[31m[49]#011train-rmse:3.54236#011validation-rmse:3.60345\u001b[0m\n",
      "\u001b[31m[21:24:08] src/tree/updater_prune.cc:74: tree pruning end, 1 roots, 36 extra nodes, 2 pruned nodes, max_depth=5\u001b[0m\n",
      "\u001b[31m[50]#011train-rmse:3.53897#011validation-rmse:3.62381\u001b[0m\n",
      "\u001b[31m[21:24:08] src/tree/updater_prune.cc:74: tree pruning end, 1 roots, 48 extra nodes, 0 pruned nodes, max_depth=5\u001b[0m\n",
      "\u001b[31m[51]#011train-rmse:3.52018#011validation-rmse:3.62786\u001b[0m\n",
      "\u001b[31m[21:24:08] src/tree/updater_prune.cc:74: tree pruning end, 1 roots, 20 extra nodes, 0 pruned nodes, max_depth=5\u001b[0m\n",
      "\u001b[31m[52]#011train-rmse:3.51363#011validation-rmse:3.61512\u001b[0m\n",
      "\u001b[31m[21:24:08] src/tree/updater_prune.cc:74: tree pruning end, 1 roots, 44 extra nodes, 0 pruned nodes, max_depth=5\u001b[0m\n",
      "\u001b[31m[53]#011train-rmse:3.49814#011validation-rmse:3.63828\u001b[0m\n",
      "\u001b[31m[21:24:08] src/tree/updater_prune.cc:74: tree pruning end, 1 roots, 34 extra nodes, 0 pruned nodes, max_depth=5\u001b[0m\n",
      "\u001b[31m[54]#011train-rmse:3.48755#011validation-rmse:3.60618\u001b[0m\n",
      "\u001b[31m[21:24:08] src/tree/updater_prune.cc:74: tree pruning end, 1 roots, 28 extra nodes, 0 pruned nodes, max_depth=5\u001b[0m\n",
      "\u001b[31m[55]#011train-rmse:3.48111#011validation-rmse:3.60586\u001b[0m\n",
      "\u001b[31m[21:24:08] src/tree/updater_prune.cc:74: tree pruning end, 1 roots, 46 extra nodes, 4 pruned nodes, max_depth=5\u001b[0m\n",
      "\u001b[31m[56]#011train-rmse:3.44555#011validation-rmse:3.60707\u001b[0m\n",
      "\u001b[31m[21:24:08] src/tree/updater_prune.cc:74: tree pruning end, 1 roots, 38 extra nodes, 2 pruned nodes, max_depth=5\u001b[0m\n",
      "\u001b[31m[57]#011train-rmse:3.43633#011validation-rmse:3.61388\u001b[0m\n",
      "\u001b[31m[21:24:08] src/tree/updater_prune.cc:74: tree pruning end, 1 roots, 40 extra nodes, 0 pruned nodes, max_depth=5\u001b[0m\n",
      "\u001b[31m[58]#011train-rmse:3.42095#011validation-rmse:3.61771\u001b[0m\n",
      "\u001b[31m[21:24:08] src/tree/updater_prune.cc:74: tree pruning end, 1 roots, 56 extra nodes, 0 pruned nodes, max_depth=5\u001b[0m\n",
      "\u001b[31m[59]#011train-rmse:3.39973#011validation-rmse:3.64848\u001b[0m\n",
      "\u001b[31m[21:24:08] src/tree/updater_prune.cc:74: tree pruning end, 1 roots, 26 extra nodes, 2 pruned nodes, max_depth=5\u001b[0m\n",
      "\u001b[31m[60]#011train-rmse:3.39213#011validation-rmse:3.64717\u001b[0m\n",
      "\u001b[31m[21:24:08] src/tree/updater_prune.cc:74: tree pruning end, 1 roots, 56 extra nodes, 0 pruned nodes, max_depth=5\u001b[0m\n",
      "\u001b[31m[61]#011train-rmse:3.3661#011validation-rmse:3.65687\u001b[0m\n",
      "\u001b[31m[21:24:08] src/tree/updater_prune.cc:74: tree pruning end, 1 roots, 36 extra nodes, 0 pruned nodes, max_depth=5\u001b[0m\n",
      "\u001b[31m[62]#011train-rmse:3.35413#011validation-rmse:3.65415\u001b[0m\n",
      "\u001b[31m[21:24:08] src/tree/updater_prune.cc:74: tree pruning end, 1 roots, 40 extra nodes, 0 pruned nodes, max_depth=5\u001b[0m\n",
      "\u001b[31m[63]#011train-rmse:3.34062#011validation-rmse:3.66292\u001b[0m\n",
      "\u001b[31m[21:24:08] src/tree/updater_prune.cc:74: tree pruning end, 1 roots, 46 extra nodes, 2 pruned nodes, max_depth=5\u001b[0m\n",
      "\u001b[31m[64]#011train-rmse:3.32109#011validation-rmse:3.66699\u001b[0m\n",
      "\u001b[31m[21:24:08] src/tree/updater_prune.cc:74: tree pruning end, 1 roots, 30 extra nodes, 0 pruned nodes, max_depth=5\u001b[0m\n",
      "\u001b[31m[65]#011train-rmse:3.311#011validation-rmse:3.65231\u001b[0m\n",
      "\u001b[31m[21:24:08] src/tree/updater_prune.cc:74: tree pruning end, 1 roots, 34 extra nodes, 0 pruned nodes, max_depth=5\u001b[0m\n",
      "\u001b[31m[66]#011train-rmse:3.29814#011validation-rmse:3.70504\u001b[0m\n",
      "\u001b[31m[21:24:08] src/tree/updater_prune.cc:74: tree pruning end, 1 roots, 52 extra nodes, 2 pruned nodes, max_depth=5\u001b[0m\n",
      "\u001b[31m[67]#011train-rmse:3.27052#011validation-rmse:3.69287\u001b[0m\n",
      "\u001b[31m[21:24:08] src/tree/updater_prune.cc:74: tree pruning end, 1 roots, 36 extra nodes, 0 pruned nodes, max_depth=5\u001b[0m\n",
      "\u001b[31m[68]#011train-rmse:3.25523#011validation-rmse:3.67655\u001b[0m\n",
      "\u001b[31m[21:24:08] src/tree/updater_prune.cc:74: tree pruning end, 1 roots, 24 extra nodes, 0 pruned nodes, max_depth=5\u001b[0m\n",
      "\u001b[31m[69]#011train-rmse:3.25107#011validation-rmse:3.68268\u001b[0m\n",
      "\u001b[31m[21:24:08] src/tree/updater_prune.cc:74: tree pruning end, 1 roots, 32 extra nodes, 2 pruned nodes, max_depth=5\u001b[0m\n",
      "\u001b[31m[70]#011train-rmse:3.24225#011validation-rmse:3.69756\u001b[0m\n",
      "\u001b[31m[21:24:08] src/tree/updater_prune.cc:74: tree pruning end, 1 roots, 50 extra nodes, 0 pruned nodes, max_depth=5\u001b[0m\n",
      "\u001b[31m[71]#011train-rmse:3.23104#011validation-rmse:3.70202\u001b[0m\n",
      "\u001b[31m[21:24:08] src/tree/updater_prune.cc:74: tree pruning end, 1 roots, 24 extra nodes, 0 pruned nodes, max_depth=5\u001b[0m\n",
      "\u001b[31m[72]#011train-rmse:3.22424#011validation-rmse:3.70376\u001b[0m\n",
      "\u001b[31m[21:24:08] src/tree/updater_prune.cc:74: tree pruning end, 1 roots, 56 extra nodes, 0 pruned nodes, max_depth=5\u001b[0m\n",
      "\u001b[31m[73]#011train-rmse:3.18309#011validation-rmse:3.68455\u001b[0m\n",
      "\u001b[31m[21:24:08] src/tree/updater_prune.cc:74: tree pruning end, 1 roots, 30 extra nodes, 0 pruned nodes, max_depth=5\u001b[0m\n",
      "\u001b[31m[74]#011train-rmse:3.17347#011validation-rmse:3.68754\u001b[0m\n",
      "\u001b[31m[21:24:08] src/tree/updater_prune.cc:74: tree pruning end, 1 roots, 32 extra nodes, 0 pruned nodes, max_depth=5\u001b[0m\n",
      "\u001b[31m[75]#011train-rmse:3.16833#011validation-rmse:3.70488\u001b[0m\n",
      "\u001b[31m[21:24:08] src/tree/updater_prune.cc:74: tree pruning end, 1 roots, 30 extra nodes, 2 pruned nodes, max_depth=5\u001b[0m\n",
      "\u001b[31m[76]#011train-rmse:3.16426#011validation-rmse:3.70482\u001b[0m\n",
      "\u001b[31m[21:24:08] src/tree/updater_prune.cc:74: tree pruning end, 1 roots, 42 extra nodes, 4 pruned nodes, max_depth=5\u001b[0m\n",
      "\u001b[31m[77]#011train-rmse:3.14014#011validation-rmse:3.69761\u001b[0m\n",
      "\u001b[31m[21:24:08] src/tree/updater_prune.cc:74: tree pruning end, 1 roots, 44 extra nodes, 2 pruned nodes, max_depth=5\u001b[0m\n",
      "\u001b[31m[78]#011train-rmse:3.12585#011validation-rmse:3.69768\u001b[0m\n",
      "\u001b[31m[21:24:08] src/tree/updater_prune.cc:74: tree pruning end, 1 roots, 44 extra nodes, 0 pruned nodes, max_depth=5\u001b[0m\n",
      "\u001b[31m[79]#011train-rmse:3.11029#011validation-rmse:3.70941\u001b[0m\n",
      "\u001b[31m[21:24:08] src/tree/updater_prune.cc:74: tree pruning end, 1 roots, 32 extra nodes, 2 pruned nodes, max_depth=5\u001b[0m\n",
      "\u001b[31m[80]#011train-rmse:3.10802#011validation-rmse:3.70745\u001b[0m\n",
      "\u001b[31m[21:24:08] src/tree/updater_prune.cc:74: tree pruning end, 1 roots, 28 extra nodes, 2 pruned nodes, max_depth=5\u001b[0m\n",
      "\u001b[31m[81]#011train-rmse:3.1014#011validation-rmse:3.72022\u001b[0m\n",
      "\u001b[31m[21:24:08] src/tree/updater_prune.cc:74: tree pruning end, 1 roots, 26 extra nodes, 6 pruned nodes, max_depth=5\u001b[0m\n",
      "\u001b[31m[82]#011train-rmse:3.09637#011validation-rmse:3.69649\u001b[0m\n",
      "\u001b[31m[21:24:08] src/tree/updater_prune.cc:74: tree pruning end, 1 roots, 42 extra nodes, 0 pruned nodes, max_depth=5\u001b[0m\n",
      "\u001b[31m[83]#011train-rmse:3.08707#011validation-rmse:3.70427\u001b[0m\n",
      "\u001b[31m[21:24:08] src/tree/updater_prune.cc:74: tree pruning end, 1 roots, 42 extra nodes, 2 pruned nodes, max_depth=5\u001b[0m\n",
      "\u001b[31m[84]#011train-rmse:3.06731#011validation-rmse:3.71249\u001b[0m\n",
      "\u001b[31m[21:24:08] src/tree/updater_prune.cc:74: tree pruning end, 1 roots, 34 extra nodes, 0 pruned nodes, max_depth=5\u001b[0m\n",
      "\u001b[31m[85]#011train-rmse:3.05336#011validation-rmse:3.71753\u001b[0m\n",
      "\u001b[31m[21:24:08] src/tree/updater_prune.cc:74: tree pruning end, 1 roots, 40 extra nodes, 0 pruned nodes, max_depth=5\u001b[0m\n",
      "\u001b[31m[86]#011train-rmse:3.03974#011validation-rmse:3.7343\u001b[0m\n",
      "\u001b[31m[21:24:08] src/tree/updater_prune.cc:74: tree pruning end, 1 roots, 32 extra nodes, 2 pruned nodes, max_depth=5\u001b[0m\n",
      "\u001b[31m[87]#011train-rmse:3.02983#011validation-rmse:3.73606\u001b[0m\n",
      "\u001b[31m[21:24:08] src/tree/updater_prune.cc:74: tree pruning end, 1 roots, 42 extra nodes, 0 pruned nodes, max_depth=5\u001b[0m\n",
      "\u001b[31m[88]#011train-rmse:3.01903#011validation-rmse:3.72748\u001b[0m\n",
      "\u001b[31m[21:24:08] src/tree/updater_prune.cc:74: tree pruning end, 1 roots, 32 extra nodes, 2 pruned nodes, max_depth=5\u001b[0m\n",
      "\u001b[31m[89]#011train-rmse:3.0106#011validation-rmse:3.74224\u001b[0m\n",
      "\u001b[31m[21:24:08] src/tree/updater_prune.cc:74: tree pruning end, 1 roots, 40 extra nodes, 0 pruned nodes, max_depth=5\u001b[0m\n",
      "\u001b[31m[90]#011train-rmse:2.99644#011validation-rmse:3.73812\u001b[0m\n",
      "\u001b[31m[21:24:08] src/tree/updater_prune.cc:74: tree pruning end, 1 roots, 42 extra nodes, 2 pruned nodes, max_depth=5\u001b[0m\n",
      "\u001b[31m[91]#011train-rmse:2.99133#011validation-rmse:3.74341\u001b[0m\n",
      "\u001b[31m[21:24:08] src/tree/updater_prune.cc:74: tree pruning end, 1 roots, 48 extra nodes, 0 pruned nodes, max_depth=5\u001b[0m\n",
      "\u001b[31m[92]#011train-rmse:2.97244#011validation-rmse:3.74682\u001b[0m\n",
      "\u001b[31m[21:24:08] src/tree/updater_prune.cc:74: tree pruning end, 1 roots, 30 extra nodes, 0 pruned nodes, max_depth=5\u001b[0m\n",
      "\u001b[31m[93]#011train-rmse:2.96568#011validation-rmse:3.75715\u001b[0m\n",
      "\u001b[31m[21:24:08] src/tree/updater_prune.cc:74: tree pruning end, 1 roots, 24 extra nodes, 0 pruned nodes, max_depth=5\u001b[0m\n",
      "\u001b[31m[94]#011train-rmse:2.95785#011validation-rmse:3.75624\u001b[0m\n",
      "\u001b[31m[21:24:08] src/tree/updater_prune.cc:74: tree pruning end, 1 roots, 44 extra nodes, 2 pruned nodes, max_depth=5\u001b[0m\n",
      "\u001b[31m[95]#011train-rmse:2.94348#011validation-rmse:3.74308\u001b[0m\n",
      "\u001b[31m[21:24:08] src/tree/updater_prune.cc:74: tree pruning end, 1 roots, 44 extra nodes, 0 pruned nodes, max_depth=5\u001b[0m\n",
      "\u001b[31m[96]#011train-rmse:2.92835#011validation-rmse:3.74575\u001b[0m\n",
      "\u001b[31m[21:24:08] src/tree/updater_prune.cc:74: tree pruning end, 1 roots, 32 extra nodes, 4 pruned nodes, max_depth=5\u001b[0m\n",
      "\u001b[31m[97]#011train-rmse:2.92234#011validation-rmse:3.74193\u001b[0m\n",
      "\u001b[31m[21:24:08] src/tree/updater_prune.cc:74: tree pruning end, 1 roots, 42 extra nodes, 2 pruned nodes, max_depth=5\u001b[0m\n",
      "\u001b[31m[98]#011train-rmse:2.91091#011validation-rmse:3.73902\u001b[0m\n",
      "\u001b[31m[21:24:08] src/tree/updater_prune.cc:74: tree pruning end, 1 roots, 26 extra nodes, 0 pruned nodes, max_depth=5\u001b[0m\n",
      "\u001b[31m[99]#011train-rmse:2.9046#011validation-rmse:3.75942\u001b[0m\n"
     ]
    },
    {
     "name": "stdout",
     "output_type": "stream",
     "text": [
      "===== Job Complete =====\n"
     ]
    }
   ],
   "source": [
    "import sagemaker\n",
    "\n",
    "# Instantiate the estimator\n",
    "xgboost = sagemaker.estimator.Estimator('811284229777.dkr.ecr.us-east-1.amazonaws.com/xgboost:latest',\n",
    "                                       role, \n",
    "                                       train_instance_count=1, \n",
    "                                       train_instance_type='ml.c4.xlarge',\n",
    "                                       output_path='s3://{}/{}/output'.format(bucket, prefix),\n",
    "                                       sagemaker_session=sagemaker.Session())\n",
    "\n",
    "# Set the hyperparameters\n",
    "xgboost.set_hyperparameters(max_depth=5,\n",
    "                        eta=0.2,\n",
    "                        gamma=4,\n",
    "                        min_child_weight=6,\n",
    "                        subsample=0.8,\n",
    "                        silent=0,\n",
    "                        objective='reg:linear',\n",
    "                        num_round=100)\n",
    "\n",
    "# Set the input data formatting and locatiopns\n",
    "s3_input_train = sagemaker.s3_input(s3_data=s3_train_loc, content_type='csv')\n",
    "s3_input_validation = sagemaker.s3_input(s3_data=s3_valid_loc, content_type='csv')\n",
    "\n",
    "# Train the model\n",
    "xgboost.fit({'train': s3_input_train, 'validation': s3_input_validation})"
   ]
  },
  {
   "cell_type": "code",
   "execution_count": 76,
   "metadata": {
    "scrolled": true
   },
   "outputs": [
    {
     "name": "stderr",
     "output_type": "stream",
     "text": [
      "INFO:sagemaker:Creating model with name: xgboost-2018-02-26-21-26-17-009\n",
      "INFO:sagemaker:Creating endpoint with name xgboost-2018-02-26-21-18-06-670\n"
     ]
    },
    {
     "name": "stdout",
     "output_type": "stream",
     "text": [
      "---------------------------------------------------------------------------------------------------------------------------!"
     ]
    }
   ],
   "source": [
    "xgboost_predictor = xgboost.deploy(initial_instance_count=1, instance_type='ml.m4.xlarge')"
   ]
  },
  {
   "cell_type": "markdown",
   "metadata": {},
   "source": [
    "## Validate the model for use\n",
    "Finally, the customer can now validate the model for use. They can obtain the endpoint from the client library using the result from previous operations, and generate classifications from the trained model using that endpoint.\n"
   ]
  },
  {
   "cell_type": "code",
   "execution_count": 77,
   "metadata": {
    "collapsed": true
   },
   "outputs": [],
   "source": [
    "from sagemaker.predictor import csv_serializer"
   ]
  },
  {
   "cell_type": "code",
   "execution_count": 81,
   "metadata": {
    "collapsed": true
   },
   "outputs": [],
   "source": [
    "import numpy as np\n",
    "\n",
    "# def predict(data, rows=500):\n",
    "def predict(data):\n",
    "    rows=len(data)\n",
    "    xgboost_predictor.content_type = 'text/csv'\n",
    "    xgboost_predictor.serializer = csv_serializer\n",
    "    xgboost_predictor.deserializer = None\n",
    "\n",
    "    split_array = np.array_split(data, int(data.shape[0] / float(rows) + 1))\n",
    "    predictions = ''\n",
    "    for array in split_array:\n",
    "        predictions = ','.join([predictions, xgboost_predictor.predict(array).decode('utf-8')])\n",
    "\n",
    "    return np.fromstring(predictions[1:], sep=',')\n",
    "\n",
    "test_data = pd.read_csv(FILE_TEST, header=None)\n",
    "labels = test_data.iloc[:,0]\n",
    "predictions = predict(test_data.as_matrix()[:, 1:]) # Note that we are not using the first column, which is the label"
   ]
  },
  {
   "cell_type": "code",
   "execution_count": 93,
   "metadata": {},
   "outputs": [
    {
     "name": "stderr",
     "output_type": "stream",
     "text": [
      "/home/ec2-user/anaconda3/envs/python3/lib/python3.6/site-packages/ipykernel/__main__.py:47: SettingWithCopyWarning: \n",
      "A value is trying to be set on a copy of a slice from a DataFrame.\n",
      "Try using .loc[row_indexer,col_indexer] = value instead\n",
      "\n",
      "See the caveats in the documentation: http://pandas.pydata.org/pandas-docs/stable/indexing.html#indexing-view-versus-copy\n"
     ]
    },
    {
     "data": {
      "text/html": [
       "<div>\n",
       "<style>\n",
       "    .dataframe thead tr:only-child th {\n",
       "        text-align: right;\n",
       "    }\n",
       "\n",
       "    .dataframe thead th {\n",
       "        text-align: left;\n",
       "    }\n",
       "\n",
       "    .dataframe tbody tr th {\n",
       "        vertical-align: top;\n",
       "    }\n",
       "</style>\n",
       "<table border=\"1\" class=\"dataframe\">\n",
       "  <thead>\n",
       "    <tr style=\"text-align: right;\">\n",
       "      <th></th>\n",
       "      <th>Facies</th>\n",
       "      <th>Formation</th>\n",
       "      <th>Well Name</th>\n",
       "      <th>Depth</th>\n",
       "      <th>GR</th>\n",
       "      <th>ILD_log10</th>\n",
       "      <th>DeltaPHI</th>\n",
       "      <th>PHIND</th>\n",
       "      <th>PE</th>\n",
       "      <th>NM_M</th>\n",
       "      <th>RELPOS</th>\n",
       "      <th>PPoro</th>\n",
       "    </tr>\n",
       "  </thead>\n",
       "  <tbody>\n",
       "    <tr>\n",
       "      <th>937</th>\n",
       "      <td>2</td>\n",
       "      <td>A1 SH</td>\n",
       "      <td>SHANKLE</td>\n",
       "      <td>2774.5</td>\n",
       "      <td>98.36</td>\n",
       "      <td>0.642</td>\n",
       "      <td>-0.1</td>\n",
       "      <td>18.685</td>\n",
       "      <td>2.9</td>\n",
       "      <td>1</td>\n",
       "      <td>1.000</td>\n",
       "      <td>19.518396</td>\n",
       "    </tr>\n",
       "    <tr>\n",
       "      <th>938</th>\n",
       "      <td>2</td>\n",
       "      <td>A1 SH</td>\n",
       "      <td>SHANKLE</td>\n",
       "      <td>2775.0</td>\n",
       "      <td>97.57</td>\n",
       "      <td>0.631</td>\n",
       "      <td>7.9</td>\n",
       "      <td>16.745</td>\n",
       "      <td>3.2</td>\n",
       "      <td>1</td>\n",
       "      <td>0.984</td>\n",
       "      <td>15.582609</td>\n",
       "    </tr>\n",
       "    <tr>\n",
       "      <th>939</th>\n",
       "      <td>2</td>\n",
       "      <td>A1 SH</td>\n",
       "      <td>SHANKLE</td>\n",
       "      <td>2775.5</td>\n",
       "      <td>98.41</td>\n",
       "      <td>0.615</td>\n",
       "      <td>12.8</td>\n",
       "      <td>14.105</td>\n",
       "      <td>3.2</td>\n",
       "      <td>1</td>\n",
       "      <td>0.968</td>\n",
       "      <td>15.090038</td>\n",
       "    </tr>\n",
       "    <tr>\n",
       "      <th>940</th>\n",
       "      <td>2</td>\n",
       "      <td>A1 SH</td>\n",
       "      <td>SHANKLE</td>\n",
       "      <td>2776.0</td>\n",
       "      <td>85.92</td>\n",
       "      <td>0.597</td>\n",
       "      <td>13.0</td>\n",
       "      <td>13.385</td>\n",
       "      <td>3.4</td>\n",
       "      <td>1</td>\n",
       "      <td>0.952</td>\n",
       "      <td>13.730292</td>\n",
       "    </tr>\n",
       "    <tr>\n",
       "      <th>941</th>\n",
       "      <td>2</td>\n",
       "      <td>A1 SH</td>\n",
       "      <td>SHANKLE</td>\n",
       "      <td>2776.5</td>\n",
       "      <td>83.16</td>\n",
       "      <td>0.592</td>\n",
       "      <td>12.3</td>\n",
       "      <td>13.345</td>\n",
       "      <td>3.4</td>\n",
       "      <td>1</td>\n",
       "      <td>0.935</td>\n",
       "      <td>13.495566</td>\n",
       "    </tr>\n",
       "  </tbody>\n",
       "</table>\n",
       "</div>"
      ],
      "text/plain": [
       "     Facies Formation Well Name   Depth     GR  ILD_log10  DeltaPHI   PHIND  \\\n",
       "937       2     A1 SH   SHANKLE  2774.5  98.36      0.642      -0.1  18.685   \n",
       "938       2     A1 SH   SHANKLE  2775.0  97.57      0.631       7.9  16.745   \n",
       "939       2     A1 SH   SHANKLE  2775.5  98.41      0.615      12.8  14.105   \n",
       "940       2     A1 SH   SHANKLE  2776.0  85.92      0.597      13.0  13.385   \n",
       "941       2     A1 SH   SHANKLE  2776.5  83.16      0.592      12.3  13.345   \n",
       "\n",
       "      PE  NM_M  RELPOS      PPoro  \n",
       "937  2.9     1   1.000  19.518396  \n",
       "938  3.2     1   0.984  15.582609  \n",
       "939  3.2     1   0.968  15.090038  \n",
       "940  3.4     1   0.952  13.730292  \n",
       "941  3.4     1   0.935  13.495566  "
      ]
     },
     "metadata": {},
     "output_type": "display_data"
    },
    {
     "name": "stdout",
     "output_type": "stream",
     "text": [
      "Correlation coeficient = 0.95713 \n",
      "Mean Squared Error = 7.51279\n"
     ]
    },
    {
     "data": {
      "image/png": "[encoded data removed]",
      "text/plain": [
       "<matplotlib.figure.Figure at 0x7f9b90db5c18>"
      ]
     },
     "metadata": {},
     "output_type": "display_data"
    }
   ],
   "source": [
    "\n",
    "%matplotlib inline\n",
    "import pandas as pd\n",
    "import numpy as np\n",
    "import matplotlib as mpl\n",
    "import matplotlib.pyplot as plt\n",
    "import matplotlib.colors as colors\n",
    "from mpl_toolkits.axes_grid1 import make_axes_locatable\n",
    "\n",
    "def log_plot(logs):\n",
    "    #make sure logs are sorted by depth\n",
    "    logs = logs.sort_values(by='Depth')\n",
    "\n",
    "    ztop=logs.Depth.min(); zbot=logs.Depth.max()\n",
    "        \n",
    "    f, ax = plt.subplots(nrows=1, ncols=4, figsize=(8, 12))\n",
    "    ax[0].plot(logs.GR, logs.Depth, '-g')\n",
    "    ax[1].plot(logs.ILD_log10, logs.Depth, '-')\n",
    "    ax[2].plot(logs.DeltaPHI, logs.Depth, '-', color='0.5')\n",
    "    ax[3].plot(logs.PHIND, logs.Depth, '-', color='r')\n",
    "    ax[3].plot(logs.PPoro, logs.Depth, '-', color='blue')\n",
    "    ax[3].legend(['Measured','Predicted'])\n",
    "    \n",
    "    for i in range(len(ax)):\n",
    "        ax[i].set_ylim(ztop,zbot)\n",
    "        ax[i].invert_yaxis()\n",
    "        ax[i].grid()\n",
    "        ax[i].locator_params(axis='x', nbins=3)\n",
    "    \n",
    "    ax[0].set_xlabel(\"GR\")\n",
    "    ax[0].set_xlim(logs.GR.min(),logs.GR.max())\n",
    "    ax[1].set_xlabel(\"ILD_log10\")\n",
    "    ax[1].set_xlim(logs.ILD_log10.min(),logs.ILD_log10.max())\n",
    "    ax[2].set_xlabel(\"DeltaPHI\")\n",
    "    ax[2].set_xlim(logs.DeltaPHI.min(),logs.DeltaPHI.max())\n",
    "    ax[3].set_xlabel(\"Porosity\")\n",
    "    ax[3].set_xlim(logs.PHIND.min(),logs.PHIND.max())\n",
    "\n",
    "    \n",
    "    ax[1].set_yticklabels([]); ax[2].set_yticklabels([]); ax[3].set_yticklabels([])\n",
    "    f.suptitle('Well: %s'%logs.iloc[0]['Well Name'], fontsize=14,y=0.94)\n",
    "\n",
    "\n",
    "    \n",
    "data = pd.read_csv('facies_vectors.csv')\n",
    "Blindwell = data[data['Well Name'] == Blind_Well_Name]\n",
    "Blindwell['PPoro'] = predictions\n",
    "display(Blindwell.head())\n",
    "log_plot(Blindwell)\n",
    "print('Correlation coeficient = {0:.5f} \\nMean Squared Error = {1:.5f}'.format(\n",
    "    np.corrcoef(predictions,labels)[0,1]\n",
    "    , mean_squared_error(predictions,labels)))"
   ]
  },
  {
   "cell_type": "markdown",
   "metadata": {},
   "source": [
    "### (Optional) Delete the Endpoint\n",
    "If you're ready to be done with this notebook, make sure run the cell below.  This will remove the hosted endpoint you created and avoid any charges from a stray instance being left on."
   ]
  },
  {
   "cell_type": "code",
   "execution_count": 11,
   "metadata": {},
   "outputs": [
    {
     "name": "stderr",
     "output_type": "stream",
     "text": [
      "INFO:sagemaker:Deleting endpoint with name: xgboost-2018-02-22-18-49-36-562\n"
     ]
    },
    {
     "name": "stdout",
     "output_type": "stream",
     "text": [
      "xgboost-2018-02-22-18-49-36-562\n"
     ]
    }
   ],
   "source": [
    "print(xgboost_predictor.endpoint)\n",
    "\n",
    "import sagemaker\n",
    "sagemaker.Session().delete_endpoint(xgboost_predictor.endpoint)"
   ]
  }
 ],
 "metadata": {
  "anaconda-cloud": {},
  "kernelspec": {
   "display_name": "Python 3",
   "language": "python",
   "name": "python3"
  },
  "language_info": {
   "codemirror_mode": {
    "name": "ipython",
    "version": 3
   },
   "file_extension": ".py",
   "mimetype": "text/x-python",
   "name": "python",
   "nbconvert_exporter": "python",
   "pygments_lexer": "ipython3",
   "version": "3.7.3"
  }
 },
 "nbformat": 4,
 "nbformat_minor": 2
}
