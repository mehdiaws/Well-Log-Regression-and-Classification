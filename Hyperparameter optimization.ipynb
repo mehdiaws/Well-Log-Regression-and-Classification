{
 "cells": [
  {
   "cell_type": "markdown",
   "metadata": {},
   "source": [
    "# Hyper Parameter Optimization Example Using Petrophysical Modeling with Amazon SageMaker XGBoost algorithm\n",
    "_**Single machine training for regression with Amazon SageMaker XGBoost algorithm**_\n",
    "\n",
    "---\n",
    "\n",
    "---\n",
    "## Contents\n",
    "1. [Introduction](#Introduction)\n",
    "2. [Setup](#Setup)\n",
    "  1. [Fetching the dataset](#Fetching-the-dataset)\n",
    "  2. [Data Ingestion](#Data-ingestion)\n",
    "3. [Hyper Parameter Optimization](#Hyper-Parameter-Optimization)  \n",
    "4. [Training the XGBoost model](#Training-the-XGBoost-model)\n",
    "5. [Set up hosting for the model](#Set-up-hosting-for-the-model)\n",
    "  1. [Import model into hosting](#Import-model-into-hosting)\n",
    "  2. [Create endpoint configuration](#Create-endpoint-configuration)\n",
    "  3. [Create endpoint](#Create-endpoint)\n",
    "6. [Validate the model for use](#Validate-the-model-for-use)\n",
    "\n",
    "---\n",
    "## Introduction\n",
    "\n",
    "This notebook demonstrates the use of Amazon SageMaker's implementation of the XGBoost algorithm Hyper Parameter Optimization to train and host a regression model for prediction of porosity from other well log measurements. \n",
    "\n",
    "> A Jupyter Notebook is an open-source web application that allows you to create and share documents that contain live code, equations, visualizations and narrative text. - http://jupyter.org/\n",
    "\n",
    "The dataset is log data from nine wells, with 5 wireline log measurements, two indicator variables and a facies label at half foot intervals. The seven predictor variables are:\n",
    "\n",
    "Five wireline log curves including: \n",
    "\n",
    "- Gamma ray (GR)\n",
    "- Resistivity logging (ILD_log10)\n",
    "- Photoelectric effect (PE) - Note, some wells do not have PE.\n",
    "- Neutron-density porosity difference \n",
    "- Average neutron-density porosity (DeltaPHI and PHIND)\n",
    "\n",
    "Two geologic constraining variables: \n",
    "\n",
    "- Nonmarine-marine indicator (NM_M) \n",
    "- Relative position (RELPOS)\n",
    "\n",
    "We will focus on these logs: GR, ILD_log10, DeltaPH, PHIND, where we try to predict PHIND by training using 7 wells, 1 validation well, and one well for blind test. \n",
    "\n",
    "The dataset comes from a class exercise from The University of Kansas on Neural Networks and Fuzzy Systems. This exercise is based on a consortium project to use machine learning techniques to create a reservoir model of the largest gas fields in North America, the Hugoton and Panoma Fields. For more info on the origin of the data, see Bohling and Dubois (2003) and Dubois et al. (2007).\n",
    "\n",
    "---\n",
    "## Setup\n",
    "\n",
    "\n",
    "This notebook was created and tested on an ml.m4.4xlarge notebook instance.\n",
    "\n",
    "Let's start by specifying:\n",
    "1. The S3 bucket and prefix that you want to use for training and model data. This should be within the same region as the Notebook Instance, training, and hosting.\n",
    "1. The IAM role arn used to give training and hosting access to your data. See the documentation for how to create these. Note, if more than one role is required for notebook instances, training, and/or hosting, please replace the boto regexp with a the appropriate full IAM role arn string(s)."
   ]
  },
  {
   "cell_type": "code",
   "execution_count": 47,
   "metadata": {
    "isConfigCell": true
   },
   "outputs": [
    {
     "name": "stdout",
     "output_type": "stream",
     "text": [
      "CPU times: user 40 ms, sys: 4 ms, total: 44 ms\n",
      "Wall time: 58 ms\n"
     ]
    }
   ],
   "source": [
    "%%time\n",
    "\n",
    "import os\n",
    "import boto3\n",
    "import re\n",
    "from sagemaker import get_execution_role\n",
    "\n",
    "role = get_execution_role()\n",
    "region = boto3.Session().region_name\n",
    "\n",
    "# bucket='mef-test' # put your s3 bucket name here, and create s3 bucket\n",
    "# # prefix = 'mehdi-test/high-level'\n",
    "# prefix = 'public-data-example/high-level'\n",
    "\n",
    "\n",
    "bucket='hpo-testing-mehdi' # put your s3 bucket name here, and create s3 bucket\n",
    "prefix = 'xgb-hpo-poro-regression'\n",
    "\n",
    "bucket_path = 'https://s3-{}.amazonaws.com/{}'.format(region,bucket)"
   ]
  },
  {
   "cell_type": "code",
   "execution_count": 94,
   "metadata": {},
   "outputs": [
    {
     "name": "stdout",
     "output_type": "stream",
     "text": [
      "us-east-1\n",
      "Using SMHPO_ENDPOINT_URL: https://86b5tsckyb.execute-api.us-east-1.amazonaws.com/Prod\n"
     ]
    }
   ],
   "source": [
    "import smhpolib\n",
    "import boto3\n",
    "region = boto3.Session().region_name\n",
    "print (region)\n",
    "smhpo = smhpolib.get_smhpo_client(region)\n",
    "\n",
    "\n",
    "tuning_job_name = 'xgb-hpo-poro-regression5' # customize with your tuning job name"
   ]
  },
  {
   "cell_type": "markdown",
   "metadata": {},
   "source": [
    "### Hyper Parameter Optimization\n",
    "\n",
    "Here we go through different steps involved in HPO. Please note that this is a new product and may not be available to public by the time you are using this! Please contact a AWS contact person for help."
   ]
  },
  {
   "cell_type": "code",
   "execution_count": 95,
   "metadata": {
    "collapsed": true
   },
   "outputs": [],
   "source": [
    "####################################################################################\n",
    "####      TUNING     ##############################################################\n",
    "####################################################################################\n",
    "\n",
    "\n",
    "####################################################################################\n",
    "####      IMPORTANT !!!!!!!!!!!!    ######################################\n",
    "\n",
    "# CHANGE METRIC (auc, rmse ,...) in all places (4-5) and also make sure to change \n",
    "# Maximize or Minimize accourding to the criteria (auc: Maximize, rmse:Minimize)\n",
    "\n",
    "####################################################################################\n",
    "\n",
    "tuning_job_config = {\n",
    "    \"ParameterRanges\": {\n",
    "        \"CategoricalParameterRanges\": [],\n",
    "      \"ContinuousParameterRanges\": [\n",
    "        {\n",
    "          \"MaxValue\": \"1\",\n",
    "          \"MinValue\": \"0\",\n",
    "          \"Name\": \"eta\",\n",
    "          \"Type\": \"Continuous\"\n",
    "}, {\n",
    "          \"MaxValue\": \"10\",\n",
    "          \"MinValue\": \"0\",\n",
    "          \"Name\": \"gamma\",\n",
    "          \"Type\": \"Continuous\"\n",
    "}, {\n",
    "          \"MaxValue\": \"10\",\n",
    "          \"MinValue\": \"1\",\n",
    "          \"Name\": \"min_child_weight\",\n",
    "          \"Type\": \"Continuous\"\n",
    "} ],\n",
    "      \"IntegerParameterRanges\": [\n",
    "        {\n",
    "          \"MaxValue\": \"10\",\n",
    "          \"MinValue\": \"1\",\n",
    "          \"Name\": \"max_depth\",\n",
    "          \"Type\": \"Integer\"\n",
    "} ]\n",
    "    },\n",
    "    \"ResourceLimits\": {\n",
    "      \"MaxNumberOfTrainingJobs\": 10,\n",
    "      \"MaxParallelTrainingJobs\": 3\n",
    "    },\n",
    "    \"Strategy\": \"Bayesian\",\n",
    "    \"TuningJobObjective\": {\n",
    "      \"MetricName\": \"valid-rmse\",\n",
    "      \"Type\": \"Minimize\"\n",
    "    }\n",
    "}"
   ]
  },
  {
   "cell_type": "code",
   "execution_count": 96,
   "metadata": {
    "collapsed": true
   },
   "outputs": [],
   "source": [
    "####################################################################################\n",
    "####      Training     ##############################################################\n",
    "####################################################################################\n",
    "\n",
    "\n",
    "containers = {'us-west-2': '433757028032.dkr.ecr.us-west-2.amazonaws.com/xgboost:latest',\n",
    "              'us-east-1': '811284229777.dkr.ecr.us-east-1.amazonaws.com/xgboost:latest',\n",
    "              'us-east-2': '825641698319.dkr.ecr.us-east-2.amazonaws.com/xgboost:latest',\n",
    "              'eu-west-1': '685385470294.dkr.ecr.eu-west-1.amazonaws.com/xgboost:latest'}\n",
    "training_image = containers[region]\n",
    "training_job_definition = {\n",
    "    \"AlgorithmSpecification\": {\n",
    "      \"MetricDefinitions\": [\n",
    "        {\n",
    "          \"Name\": \"valid-rmse\",\n",
    "          \"Regex\": \"validation-[a-z]+:([0-9\\\\.]+)\"\n",
    "        },\n",
    "        {\n",
    "          \"Name\": \"train-rmse\",\n",
    "          \"Regex\": \"train-[a-z]+:([0-9\\\\.]+)\"\n",
    "        }\n",
    "      ],\n",
    "      \"TrainingImage\": training_image,\n",
    "      \"TrainingInputMode\": \"File\"\n",
    "    },\n",
    "    \"InputDataConfig\": [\n",
    "      {\n",
    "        \"ChannelName\": \"train\",\n",
    "        \"CompressionType\": \"None\",\n",
    "        \"ContentType\": \"csv\",\n",
    "        \"DataSource\": {\n",
    "          \"S3DataSource\": {\n",
    "            \"S3DataDistributionType\": \"FullyReplicated\",\n",
    "            \"S3DataType\": \"S3Prefix\",\n",
    "            \"S3Uri\": bucket_path + \"/\" + prefix + '/train'\n",
    "\n",
    "} }\n",
    "}, {\n",
    "        \"ChannelName\": \"validation\",\n",
    "        \"CompressionType\": \"None\",\n",
    "        \"ContentType\": \"csv\",\n",
    "        \"DataSource\": {\n",
    "          \"S3DataSource\": {\n",
    "            \"S3DataDistributionType\": \"FullyReplicated\",\n",
    "            \"S3DataType\": \"S3Prefix\",\n",
    "            \"S3Uri\": bucket_path + \"/\" + prefix + '/validation'\n",
    "} }\n",
    "} ],\n",
    "    \"OutputDataConfig\": {\n",
    "      \"S3OutputPath\": \"s3://{}\".format(bucket)\n",
    "    },\n",
    "    \"ResourceConfig\": {\n",
    "      \"InstanceCount\": 1,\n",
    "      \"InstanceType\": \"ml.c4.2xlarge\",\n",
    "      \"VolumeSizeInGB\": 10\n",
    "    },\n",
    "    \"RoleArn\": role,\n",
    "    \"StaticHyperParameters\": {\n",
    "      \"eval_metric\": \"rmse\",\n",
    "      \"num_round\": \"100\",\n",
    "      \"objective\": \"reg:linear\",\n",
    "      \"rate_drop\": \"0.3\",\n",
    "      \"tweedie_variance_power\": \"1.4\"\n",
    "    },\n",
    "    \"StoppingCondition\": {\n",
    "      \"MaxRuntimeInSeconds\": 43200\n",
    "    }\n",
    "}"
   ]
  },
  {
   "cell_type": "code",
   "execution_count": 97,
   "metadata": {},
   "outputs": [
    {
     "data": {
      "text/plain": [
       "{'ResponseMetadata': {'HTTPHeaders': {'connection': 'keep-alive',\n",
       "   'content-length': '95',\n",
       "   'content-type': 'application/json',\n",
       "   'date': 'Fri, 13 Apr 2018 20:36:06 GMT',\n",
       "   'via': '1.1 c8b22b813bc9140f3fc38a5e2fae3685.cloudfront.net (CloudFront)',\n",
       "   'x-amz-apigw-id': 'FTAscEGXIAMFfeg=',\n",
       "   'x-amz-cf-id': '0Zy2XUqo6su6YnkLIZqueDFDSx5gwQpvrO5VU8wOkFpvGXh5sfin9g==',\n",
       "   'x-amzn-requestid': '4a45448b-3f5a-11e8-b30d-8d5f69a11f35',\n",
       "   'x-amzn-trace-id': 'sampled=0;root=1-5ad114b6-1cd58e1ab297bf3370e54868',\n",
       "   'x-cache': 'Miss from cloudfront'},\n",
       "  'HTTPStatusCode': 200,\n",
       "  'RequestId': '4a45448b-3f5a-11e8-b30d-8d5f69a11f35',\n",
       "  'RetryAttempts': 0},\n",
       " 'TuningJobArn': 'arn:aws:sagemaker:us-east-1:597844091762:tuning-job/xgb-hpo-poro-regression5'}"
      ]
     },
     "execution_count": 97,
     "metadata": {},
     "output_type": "execute_result"
    }
   ],
   "source": [
    "####################################################################################\n",
    "####      Launch tuning/training   #################################################\n",
    "####################################################################################\n",
    "\n",
    "smhpo.create_tuning_job(TuningJobName = tuning_job_name,\n",
    "                    TuningJobConfig = tuning_job_config,\n",
    "                    TrainingJobDefinition = training_job_definition)"
   ]
  },
  {
   "cell_type": "code",
   "execution_count": 118,
   "metadata": {
    "scrolled": false
   },
   "outputs": [
    {
     "data": {
      "text/plain": [
       "{'BestTrainingJob': {'FinalTuningJobObjectiveMetric': {'MetricName': 'valid-rmse',\n",
       "   'Value': 3.20352},\n",
       "  'HyperParameters': {'eta': '0.048607529603813975',\n",
       "   'eval_metric': 'rmse',\n",
       "   'gamma': '1.2329359559052957',\n",
       "   'max_depth': '2',\n",
       "   'min_child_weight': '5.294569737212162',\n",
       "   'num_round': '100',\n",
       "   'objective': 'reg:linear',\n",
       "   'rate_drop': '0.3',\n",
       "   'tweedie_variance_power': '1.4'},\n",
       "  'RetriedAttempt': 1,\n",
       "  'TrainingJobName': 'xgb-hpo-poro-regression5-008-8bd2fe79',\n",
       "  'TrainingJobStatus': 'Completed'},\n",
       " 'LastModifiedTime': datetime.datetime(2018, 4, 13, 20, 57, 25, tzinfo=tzlocal()),\n",
       " 'ResponseMetadata': {'HTTPHeaders': {'connection': 'keep-alive',\n",
       "   'content-length': '2651',\n",
       "   'content-type': 'application/json',\n",
       "   'date': 'Fri, 13 Apr 2018 20:58:36 GMT',\n",
       "   'via': '1.1 dbdd67063f01c39bd9e0f02db8431258.cloudfront.net (CloudFront)',\n",
       "   'x-amz-apigw-id': 'FTD_ZE_tIAMF19w=',\n",
       "   'x-amz-cf-id': 'r8Vcdg1yECzTqQJ7ZPt6Hruc1-1cGpDJKiIwYoWPqKeQ2lqBhRX4SA==',\n",
       "   'x-amzn-requestid': '6f04e486-3f5d-11e8-aaa9-f5371c3bdf71',\n",
       "   'x-amzn-trace-id': 'sampled=0;root=1-5ad119fc-1fc706ae61dfcec3b3e0cca1',\n",
       "   'x-cache': 'Miss from cloudfront'},\n",
       "  'HTTPStatusCode': 200,\n",
       "  'RequestId': '6f04e486-3f5d-11e8-aaa9-f5371c3bdf71',\n",
       "  'RetryAttempts': 0},\n",
       " 'TrainingJobCounters': {'Completed': 10,\n",
       "  'Failed': 0,\n",
       "  'Pending': 0,\n",
       "  'Running': 0},\n",
       " 'TrainingJobDefinition': {'AlgorithmSpecification': {'MetricDefinitions': [{'Name': 'valid-rmse',\n",
       "     'Regex': 'validation-[a-z]+:([0-9\\\\.]+)'},\n",
       "    {'Name': 'train-rmse', 'Regex': 'train-[a-z]+:([0-9\\\\.]+)'}],\n",
       "   'TrainingImage': '811284229777.dkr.ecr.us-east-1.amazonaws.com/xgboost:latest',\n",
       "   'TrainingInputMode': 'File'},\n",
       "  'InputDataConfig': [{'ChannelName': 'train',\n",
       "    'CompressionType': 'None',\n",
       "    'ContentType': 'csv',\n",
       "    'DataSource': {'S3DataSource': {'S3DataDistributionType': 'FullyReplicated',\n",
       "      'S3DataType': 'S3Prefix',\n",
       "      'S3Uri': 'https://s3-us-east-1.amazonaws.com/hpo-testing-mehdi/xgb-hpo-poro-regression/train'}}},\n",
       "   {'ChannelName': 'validation',\n",
       "    'CompressionType': 'None',\n",
       "    'ContentType': 'csv',\n",
       "    'DataSource': {'S3DataSource': {'S3DataDistributionType': 'FullyReplicated',\n",
       "      'S3DataType': 'S3Prefix',\n",
       "      'S3Uri': 'https://s3-us-east-1.amazonaws.com/hpo-testing-mehdi/xgb-hpo-poro-regression/validation'}}}],\n",
       "  'OutputDataConfig': {'S3OutputPath': 's3://hpo-testing-mehdi'},\n",
       "  'ResourceConfig': {'InstanceCount': 1,\n",
       "   'InstanceType': 'ml.c4.2xlarge',\n",
       "   'VolumeSizeInGB': 10},\n",
       "  'RoleArn': 'arn:aws:iam::597844091762:role/service-role/AmazonSageMaker-ExecutionRole-20180413T102490',\n",
       "  'StaticHyperParameters': {'eval_metric': 'rmse',\n",
       "   'num_round': '100',\n",
       "   'objective': 'reg:linear',\n",
       "   'rate_drop': '0.3',\n",
       "   'tweedie_variance_power': '1.4'},\n",
       "  'StoppingCondition': {'MaxRuntimeInSeconds': 43200}},\n",
       " 'TuningJobArn': 'arn:aws:sagemaker:us-east-1:597844091762:tuning-job/xgb-hpo-poro-regression5',\n",
       " 'TuningJobConfig': {'ParameterRanges': {'CategoricalParameterRanges': [],\n",
       "   'ContinuousParameterRanges': [{'MaxValue': '1',\n",
       "     'MinValue': '0',\n",
       "     'Name': 'eta',\n",
       "     'Type': 'Continuous'},\n",
       "    {'MaxValue': '10', 'MinValue': '0', 'Name': 'gamma', 'Type': 'Continuous'},\n",
       "    {'MaxValue': '10',\n",
       "     'MinValue': '1',\n",
       "     'Name': 'min_child_weight',\n",
       "     'Type': 'Continuous'}],\n",
       "   'IntegerParameterRanges': [{'MaxValue': '10',\n",
       "     'MinValue': '1',\n",
       "     'Name': 'max_depth',\n",
       "     'Type': 'Integer'}]},\n",
       "  'ResourceLimits': {'MaxNumberOfTrainingJobs': 10,\n",
       "   'MaxParallelTrainingJobs': 3},\n",
       "  'Strategy': 'Bayesian',\n",
       "  'TuningJobObjective': {'MetricName': 'valid-rmse', 'Type': 'Minimize'}},\n",
       " 'TuningJobEndTime': datetime.datetime(2018, 4, 13, 20, 57, 22, tzinfo=tzlocal()),\n",
       " 'TuningJobName': 'xgb-hpo-poro-regression5',\n",
       " 'TuningJobStartTime': datetime.datetime(2018, 4, 13, 20, 36, 6, tzinfo=tzlocal()),\n",
       " 'TuningJobStatus': 'Completed'}"
      ]
     },
     "execution_count": 118,
     "metadata": {},
     "output_type": "execute_result"
    }
   ],
   "source": [
    "#####################################################################################\n",
    "####        MONITOR JOB      #################################################\n",
    "####################################################################################\n",
    "\n",
    "smhpo.describe_tuning_job(TuningJobName =tuning_job_name)"
   ]
  },
  {
   "cell_type": "code",
   "execution_count": 103,
   "metadata": {
    "scrolled": true
   },
   "outputs": [
    {
     "name": "stdout",
     "output_type": "stream",
     "text": [
      "{'ResponseMetadata': {'RequestId': 'a8ada9ff-3f5a-11e8-997b-151e71eb83eb', 'HTTPStatusCode': 200, 'HTTPHeaders': {'content-type': 'application/json', 'content-length': '1092', 'connection': 'keep-alive', 'date': 'Fri, 13 Apr 2018 20:38:44 GMT', 'x-amzn-requestid': 'a8ada9ff-3f5a-11e8-997b-151e71eb83eb', 'x-amz-apigw-id': 'FTBFMGfMoAMFRDA=', 'x-amzn-trace-id': 'sampled=0;root=1-5ad11554-2d7bed5986e458ff9c1fff94', 'x-cache': 'Miss from cloudfront', 'via': '1.1 c8b22b813bc9140f3fc38a5e2fae3685.cloudfront.net (CloudFront)', 'x-amz-cf-id': 'tjPxU06ClFdCFR1EoH3H7a_HBCI9PNem1H2-jEJU_zMchR477sjLOw=='}, 'RetryAttempts': 0}, 'TrainingJobSummaries': [{'TrainingJobName': 'xgb-hpo-poro-regression5-003-4d68c2a1', 'TrainingJobStatus': 'InProgress', 'RetriedAttempt': 0, 'HyperParameters': {'eta': '0.8013502439628606', 'eval_metric': 'rmse', 'tweedie_variance_power': '1.4', 'max_depth': '10', 'num_round': '100', 'gamma': '2.070187574440965', 'min_child_weight': '6.986570582976296', 'objective': 'reg:linear', 'rate_drop': '0.3'}}, {'TrainingJobName': 'xgb-hpo-poro-regression5-002-4d155fb5', 'TrainingJobStatus': 'InProgress', 'RetriedAttempt': 0, 'HyperParameters': {'eta': '0.7977956189254622', 'eval_metric': 'rmse', 'tweedie_variance_power': '1.4', 'max_depth': '5', 'num_round': '100', 'gamma': '8.34482896766028', 'min_child_weight': '4.737658716791474', 'objective': 'reg:linear', 'rate_drop': '0.3'}}, {'TrainingJobName': 'xgb-hpo-poro-regression5-001-267dae96', 'TrainingJobStatus': 'InProgress', 'RetriedAttempt': 0, 'HyperParameters': {'eta': '0.290377549135064', 'eval_metric': 'rmse', 'tweedie_variance_power': '1.4', 'max_depth': '5', 'num_round': '100', 'gamma': '1.0400643121651276', 'min_child_weight': '2.2375360458059115', 'objective': 'reg:linear', 'rate_drop': '0.3'}}]}\n"
     ]
    }
   ],
   "source": [
    "#####################################################################################\n",
    "####        GET THE TRAINING JOB NAME FROM HERE      ################################\n",
    "####################################################################################\n",
    "\n",
    "\n",
    "list_training_result = print(smhpo.list_training_jobs_for_tuning_job(TuningJobName=tuning_job_name, MaxResults=100))"
   ]
  },
  {
   "cell_type": "code",
   "execution_count": 38,
   "metadata": {
    "scrolled": true
   },
   "outputs": [
    {
     "name": "stdout",
     "output_type": "stream",
     "text": [
      "{'ResponseMetadata': {'RequestId': 'afa1fcad-3f37-11e8-b609-89593f190249', 'HTTPStatusCode': 200, 'HTTPHeaders': {'content-type': 'application/json', 'content-length': '909', 'connection': 'keep-alive', 'date': 'Fri, 13 Apr 2018 16:28:23 GMT', 'x-amzn-requestid': 'afa1fcad-3f37-11e8-b609-89593f190249', 'x-amz-apigw-id': 'FScaNFU_oAMFhTg=', 'x-amzn-trace-id': 'sampled=0;root=1-5ad0daa7-26b147b5696f49439422562a', 'x-cache': 'Miss from cloudfront', 'via': '1.1 fd885dc16612d4e9d70f328fd0542052.cloudfront.net (CloudFront)', 'x-amz-cf-id': '1k5wyVVjlxJe_xRlvVcDLQyN06FzIsuJjUBktxOYvI9b98T1f5c9gg=='}, 'RetryAttempts': 0}, 'TrainingJobSummaries': [{'TrainingJobName': 'xgb-hpo-poro-regression2-007-ee21ab7c', 'TrainingJobStatus': 'Stopped', 'RetriedAttempt': 0, 'HyperParameters': {'eta': '0.833010894471637', 'eval_metric': 'auc', 'tweedie_variance_power': '1.4', 'max_depth': '2', 'num_round': '100', 'gamma': '4.828420324601', 'min_child_weight': '4.0877493128247835', 'objective': 'reg:linear', 'rate_drop': '0.3'}}], 'NextToken': 'cIws2QhTXUIa8bi8WL3zWx19CrlMDA+sgX8jZGHWJDZMcbhgTfk5AbFnL+JnGM6neAigkCf9YCEXGp2R3U3h+cTjk1RmAi2JIU2EiITjg6XOkBUHzQYV/f2M8Xt8WYp3izkMU7aJfl9JsIL3qUOHApEiGfD2hf9iBcds2CgyfKxLdy7jvGLsfybg1FeCsmvZua+njgX2wwD0z0V2n89W2Pw4t9Ytl9Eg2jurUvLF5PflSs9SdZ1dXc2xSS3gLM3OLAzKtkJtwVDyV4p1/hr+6k/OjhDhpTFfLkZSNbHt1ZI82CZjhAAehH5Cr5O85onZi/5N2ppgDPaOXkKIWtP2bGeFxiIqEFqZhCjRbbjw2QgjP7+iRBGZR/HPxk909lcLHYtMV3q6x3CBL6XBzDgKdjblAdLEUqfSB8io+fMDiXxW6eGuViweHNsdHRGgvtvfA1IRISXmDtbL0rN16i7AgpFRiWmWarSwjVUIfSSHErlLqjToeB8AmXowPohxIHgePuJ8TA=='}\n"
     ]
    }
   ],
   "source": [
    "list_training_result = print(smhpo.list_training_jobs_for_tuning_job(TuningJobName=tuning_job_name, MaxResults=1))"
   ]
  },
  {
   "cell_type": "code",
   "execution_count": 108,
   "metadata": {},
   "outputs": [
    {
     "data": {
      "text/plain": [
       "{'AlgorithmSpecification': {'TrainingImage': '811284229777.dkr.ecr.us-east-1.amazonaws.com/xgboost:latest',\n",
       "  'TrainingInputMode': 'File'},\n",
       " 'CreationTime': datetime.datetime(2018, 4, 13, 20, 36, 17, 213000, tzinfo=tzlocal()),\n",
       " 'HyperParameters': {'eta': '0.8013502439628606',\n",
       "  'eval_metric': 'rmse',\n",
       "  'gamma': '2.070187574440965',\n",
       "  'max_depth': '10',\n",
       "  'min_child_weight': '6.986570582976296',\n",
       "  'num_round': '100',\n",
       "  'objective': 'reg:linear',\n",
       "  'rate_drop': '0.3',\n",
       "  'tweedie_variance_power': '1.4'},\n",
       " 'InputDataConfig': [{'ChannelName': 'train',\n",
       "   'CompressionType': 'None',\n",
       "   'ContentType': 'csv',\n",
       "   'DataSource': {'S3DataSource': {'S3DataDistributionType': 'FullyReplicated',\n",
       "     'S3DataType': 'S3Prefix',\n",
       "     'S3Uri': 'https://s3-us-east-1.amazonaws.com/hpo-testing-mehdi/xgb-hpo-poro-regression/train'}},\n",
       "   'RecordWrapperType': 'None'},\n",
       "  {'ChannelName': 'validation',\n",
       "   'CompressionType': 'None',\n",
       "   'ContentType': 'csv',\n",
       "   'DataSource': {'S3DataSource': {'S3DataDistributionType': 'FullyReplicated',\n",
       "     'S3DataType': 'S3Prefix',\n",
       "     'S3Uri': 'https://s3-us-east-1.amazonaws.com/hpo-testing-mehdi/xgb-hpo-poro-regression/validation'}},\n",
       "   'RecordWrapperType': 'None'}],\n",
       " 'LastModifiedTime': datetime.datetime(2018, 4, 13, 20, 39, 56, 862000, tzinfo=tzlocal()),\n",
       " 'OutputDataConfig': {'KmsKeyId': '',\n",
       "  'S3OutputPath': 's3://hpo-testing-mehdi'},\n",
       " 'ResourceConfig': {'InstanceCount': 1,\n",
       "  'InstanceType': 'ml.c4.2xlarge',\n",
       "  'VolumeSizeInGB': 10},\n",
       " 'ResponseMetadata': {'HTTPHeaders': {'connection': 'keep-alive',\n",
       "   'content-length': '1634',\n",
       "   'content-type': 'application/x-amz-json-1.1',\n",
       "   'date': 'Fri, 13 Apr 2018 20:40:59 GMT',\n",
       "   'x-amzn-requestid': '8a997325-66ec-418c-9e06-f46dc84cdb8e'},\n",
       "  'HTTPStatusCode': 200,\n",
       "  'RequestId': '8a997325-66ec-418c-9e06-f46dc84cdb8e',\n",
       "  'RetryAttempts': 0},\n",
       " 'RoleArn': 'arn:aws:iam::597844091762:role/service-role/AmazonSageMaker-ExecutionRole-20180413T102490',\n",
       " 'SecondaryStatus': 'Training',\n",
       " 'StoppingCondition': {'MaxRuntimeInSeconds': 43200},\n",
       " 'TrainingJobArn': 'arn:aws:sagemaker:us-east-1:597844091762:training-job/xgb-hpo-poro-regression5-003-4d68c2a1',\n",
       " 'TrainingJobName': 'xgb-hpo-poro-regression5-003-4d68c2a1',\n",
       " 'TrainingJobStatus': 'InProgress',\n",
       " 'TrainingStartTime': datetime.datetime(2018, 4, 13, 20, 39, 25, 766000, tzinfo=tzlocal())}"
      ]
     },
     "execution_count": 108,
     "metadata": {},
     "output_type": "execute_result"
    }
   ],
   "source": [
    "#####################################################################################\n",
    "####                         DE-BUGGING             ################################\n",
    "####################################################################################\n",
    "\n",
    "sagemaker = boto3.client('sagemaker')\n",
    "sagemaker.describe_training_job(TrainingJobName='xgb-hpo-poro-regression5-003-4d68c2a1')\n"
   ]
  },
  {
   "cell_type": "code",
   "execution_count": 19,
   "metadata": {},
   "outputs": [
    {
     "data": {
      "text/plain": [
       "{'ResponseMetadata': {'HTTPHeaders': {'connection': 'keep-alive',\n",
       "   'content-length': '0',\n",
       "   'content-type': 'application/json',\n",
       "   'date': 'Fri, 13 Apr 2018 16:06:13 GMT',\n",
       "   'via': '1.1 a2a3d7501713013e8b54a236e17fb3be.cloudfront.net (CloudFront)',\n",
       "   'x-amz-apigw-id': 'FSZKKFYgIAMFcIg=',\n",
       "   'x-amz-cf-id': '5Fiwk7nXaCsAGEPn16FbHbCLj-1CtGcGqdn84obSXHErcb63X14WHw==',\n",
       "   'x-amzn-requestid': '95fcec18-3f34-11e8-9d1e-e70edeeb048b',\n",
       "   'x-amzn-trace-id': 'sampled=0;root=1-5ad0d574-1d268f26fc89a8ac6ff16c33',\n",
       "   'x-cache': 'Miss from cloudfront'},\n",
       "  'HTTPStatusCode': 200,\n",
       "  'RequestId': '95fcec18-3f34-11e8-9d1e-e70edeeb048b',\n",
       "  'RetryAttempts': 0}}"
      ]
     },
     "execution_count": 19,
     "metadata": {},
     "output_type": "execute_result"
    }
   ],
   "source": [
    "####################################################################################\n",
    "####      STPO      #################################################\n",
    "####################################################################################\n",
    "\n",
    "smhpo.stop_tuning_job(TuningJobName=tuning_job_name)"
   ]
  },
  {
   "cell_type": "markdown",
   "metadata": {},
   "source": [
    "### Fetching the dataset\n",
    "\n",
    "Following methods split the data into train/test/validation datasets and upload files to S3."
   ]
  },
  {
   "cell_type": "code",
   "execution_count": 43,
   "metadata": {},
   "outputs": [
    {
     "name": "stdout",
     "output_type": "stream",
     "text": [
      "CPU times: user 0 ns, sys: 0 ns, total: 0 ns\n",
      "Wall time: 28.4 µs\n"
     ]
    }
   ],
   "source": [
    "%%time\n",
    "\n",
    "import io\n",
    "import boto3\n",
    "import random\n",
    "\n",
    "def data_split(FILE_DATA, FILE_TRAIN, FILE_VALIDATION, FILE_TEST, Valid_Well_Name, Blind_Well_Name, TARGET_VAR):\n",
    "    data = pd.read_csv(FILE_DATA)\n",
    "    n = data.shape[0]\n",
    "    \n",
    "    # Make the first column the target feature    \n",
    "    cols = data.columns.tolist()\n",
    "    target_pos = data.columns.get_loc(TARGET_VAR)\n",
    "    cols.pop(target_pos)\n",
    "    cols = [TARGET_VAR] + cols\n",
    "    data = data.loc[:,cols]\n",
    "                \n",
    "    # Remove target colun from test set\n",
    "    #test_data = test_data.drop([TARGET_VAR], axis=1)\n",
    "\n",
    "    # Split data\n",
    "    test_data = data[data['Well Name'] == Blind_Well_Name]\n",
    "    test_data = test_data.drop(['Well Name'], axis=1)\n",
    "    \n",
    "    valid_data = data[data['Well Name'] == Valid_Well_Name]\n",
    "    valid_data = valid_data.drop(['Well Name'], axis=1)\n",
    "\n",
    "    train_data = data[data['Well Name'] != Blind_Well_Name]\n",
    "    train_data = train_data[train_data['Well Name'] != Valid_Well_Name]\n",
    "\n",
    "    train_data = train_data.drop(['Well Name'], axis=1)\n",
    "\n",
    "    train_data.to_csv(FILE_TRAIN, index=False, header=False)\n",
    "    valid_data.to_csv(FILE_VALIDATION, index=False, header=False)\n",
    "    test_data.to_csv(FILE_TEST, index=False, header=False)\n",
    "    \n",
    "def write_to_s3(fobj, bucket, key):\n",
    "    return boto3.Session().resource('s3').Bucket(bucket).Object(key).upload_fileobj(fobj)\n",
    "\n",
    "# def upload_to_s3(bucket, channel, filename):\n",
    "#     fobj=open(filename, 'rb')\n",
    "#     key = prefix+'/'+channel+'/'+filename\n",
    "#     url = 's3://{}/{}'.format(bucket, key)\n",
    "#     print('Writing to {}'.format(url))\n",
    "#     write_to_s3(fobj, bucket, key)\n",
    "#     return(url)\n",
    "\n",
    "\n",
    "def upload_to_s3(bucket, channel, filename):\n",
    "    fobj=open(filename, 'rb')\n",
    "    key = prefix+'/'+channel+'/'+filename\n",
    "    url = 's3://{}/{}'.format(bucket, key)\n",
    "    print('Writing to {}'.format(url))\n",
    "    write_to_s3(fobj, bucket, key)     \n",
    "    return(url)\n"
   ]
  },
  {
   "cell_type": "markdown",
   "metadata": {},
   "source": [
    "### Data ingestion\n",
    "\n",
    "Next, we read the dataset from the existing repository into memory, for preprocessing prior to training. This processing could be done *in situ* by Amazon Athena, Apache Spark in Amazon EMR, Amazon Redshift, etc., assuming the dataset is present in the appropriate location. Then, the next step would be to transfer the data to S3 for use in training. For small datasets, such as this one, reading into memory isn't onerous, though it would be for larger datasets."
   ]
  },
  {
   "cell_type": "markdown",
   "metadata": {},
   "source": [
    "When using the csv option, here is the critical piece of information about the data format:\n",
    "\n",
    "> For CSV training, the algorithm assumes that the target variable is in the first column and that the CSV does not have a header record. For CSV inference, the algorithm assumes that CSV input does not have the label column.\n",
    "\n",
    "[Source](https://docs.aws.amazon.com/sagemaker/latest/dg/xgboost.html)"
   ]
  },
  {
   "cell_type": "code",
   "execution_count": 44,
   "metadata": {
    "collapsed": true
   },
   "outputs": [],
   "source": [
    "# Remove non-numeric columns\n",
    "import pandas as pd\n",
    "data = pd.read_csv('facies_vectors.csv')\n",
    "# Remove rows with missing values\n",
    "data.dropna(inplace=True)\n",
    "\n",
    "data['Well Name'].unique()\n",
    "data = data.loc[:,['Well Name', 'GR', 'ILD_log10', 'DeltaPHI', 'PHIND']]\n",
    "\n",
    "\n",
    "# Write file back to disk\n",
    "data.to_csv('facies_num.csv', index=False)"
   ]
  },
  {
   "cell_type": "code",
   "execution_count": 45,
   "metadata": {
    "collapsed": true
   },
   "outputs": [],
   "source": [
    "FILE_DATA = 'facies_num.csv'\n",
    "TARGET_VAR = 'PHIND'\n",
    "FILE_TRAIN = 'facies_train.csv'\n",
    "FILE_VALIDATION = 'facies_validation.csv'\n",
    "FILE_TEST = 'facies_test.csv'\n",
    "Valid_Well_Name = 'SHRIMPLIN'\n",
    "Blind_Well_Name = 'SHANKLE'\n",
    "\n",
    "data_split(FILE_DATA, FILE_TRAIN, FILE_VALIDATION, FILE_TEST, Valid_Well_Name, Blind_Well_Name, TARGET_VAR)"
   ]
  },
  {
   "cell_type": "code",
   "execution_count": 46,
   "metadata": {},
   "outputs": [
    {
     "name": "stdout",
     "output_type": "stream",
     "text": [
      "Writing to s3://hpo-testing-mehdi/xgb-hpo-poro-regression/train/facies_train.csv\n",
      "Writing to s3://hpo-testing-mehdi/xgb-hpo-poro-regression/validation/facies_validation.csv\n",
      "Writing to s3://hpo-testing-mehdi/xgb-hpo-poro-regression/test/facies_test.csv\n"
     ]
    }
   ],
   "source": [
    "# upload the files to the S3 bucket\n",
    "s3_train_loc = upload_to_s3(bucket = bucket, channel = 'train', filename = FILE_TRAIN)\n",
    "s3_valid_loc = upload_to_s3(bucket = bucket, channel = 'validation', filename = FILE_VALIDATION)\n",
    "s3_test_loc = upload_to_s3(bucket = bucket, channel = 'test', filename = FILE_TEST)"
   ]
  },
  {
   "cell_type": "markdown",
   "metadata": {},
   "source": [
    "## Training the XGBoost model\n",
    "\n",
    "After setting training parameters, we kick off training, and poll for status until training is completed, which in this example, takes between 5 and 6 minutes."
   ]
  },
  {
   "cell_type": "markdown",
   "metadata": {},
   "source": [
    "XGBoost hyperparameter [docs](https://docs.aws.amazon.com/sagemaker/latest/dg/xgboost_hyperparameters.html)."
   ]
  },
  {
   "cell_type": "code",
   "execution_count": 119,
   "metadata": {
    "scrolled": true
   },
   "outputs": [
    {
     "name": "stderr",
     "output_type": "stream",
     "text": [
      "INFO:sagemaker:Creating training-job with name: xgboost-2018-04-13-21-25-46-918\n"
     ]
    },
    {
     "name": "stdout",
     "output_type": "stream",
     "text": [
      "..........................................................\n",
      "\u001b[31mArguments: train\u001b[0m\n",
      "\u001b[31m[2018-04-13:21:30:26:INFO] Running standalone xgboost training.\u001b[0m\n",
      "\u001b[31m[2018-04-13:21:30:26:INFO] File size need to be processed in the node: 0.07mb. Available memory size in the node: 78.0mb\u001b[0m\n",
      "\u001b[31m/opt/amazon/lib/python2.7/site-packages/sage_xgboost/train_helper.py:315: ParserWarning: Falling back to the 'python' engine because the 'c' engine does not support sep=None with delim_whitespace=False; you can avoid this warning by specifying engine='python'.\n",
      "  df = pd.read_csv(os.path.join(files_path, csv_file), sep=None, header=None)\u001b[0m\n",
      "\u001b[31m[21:30:26] src/tree/updater_prune.cc:74: tree pruning end, 1 roots, 6 extra nodes, 0 pruned nodes, max_depth=2\u001b[0m\n",
      "\u001b[31m[0]#011train-rmse:14.3483#011validation-rmse:12.2532\u001b[0m\n",
      "\u001b[31m[21:30:26] src/tree/updater_prune.cc:74: tree pruning end, 1 roots, 6 extra nodes, 0 pruned nodes, max_depth=2\u001b[0m\n",
      "\u001b[31m[1]#011train-rmse:13.7738#011validation-rmse:11.7146\u001b[0m\n",
      "\u001b[31m[21:30:26] src/tree/updater_prune.cc:74: tree pruning end, 1 roots, 6 extra nodes, 0 pruned nodes, max_depth=2\u001b[0m\n",
      "\u001b[31m[2]#011train-rmse:13.2336#011validation-rmse:11.205\u001b[0m\n",
      "\u001b[31m[21:30:26] src/tree/updater_prune.cc:74: tree pruning end, 1 roots, 6 extra nodes, 0 pruned nodes, max_depth=2\u001b[0m\n",
      "\u001b[31m[3]#011train-rmse:12.7158#011validation-rmse:10.7117\u001b[0m\n",
      "\u001b[31m[4]#011train-rmse:12.2299#011validation-rmse:10.2483\u001b[0m\n",
      "\u001b[31m[21:30:26] src/tree/updater_prune.cc:74: tree pruning end, 1 roots, 6 extra nodes, 0 pruned nodes, max_depth=2\u001b[0m\n",
      "\u001b[31m[21:30:26] src/tree/updater_prune.cc:74: tree pruning end, 1 roots, 6 extra nodes, 0 pruned nodes, max_depth=2\u001b[0m\n",
      "\u001b[31m[5]#011train-rmse:11.7704#011validation-rmse:9.8055\u001b[0m\n",
      "\u001b[31m[21:30:26] src/tree/updater_prune.cc:74: tree pruning end, 1 roots, 6 extra nodes, 0 pruned nodes, max_depth=2\u001b[0m\n",
      "\u001b[31m[6]#011train-rmse:11.3426#011validation-rmse:9.39879\u001b[0m\n",
      "\u001b[31m[21:30:26] src/tree/updater_prune.cc:74: tree pruning end, 1 roots, 6 extra nodes, 0 pruned nodes, max_depth=2\u001b[0m\n",
      "\u001b[31m[7]#011train-rmse:10.9416#011validation-rmse:9.01975\u001b[0m\n",
      "\u001b[31m[21:30:26] src/tree/updater_prune.cc:74: tree pruning end, 1 roots, 6 extra nodes, 0 pruned nodes, max_depth=2\u001b[0m\n",
      "\u001b[31m[8]#011train-rmse:10.5625#011validation-rmse:8.63981\u001b[0m\n",
      "\u001b[31m[21:30:26] src/tree/updater_prune.cc:74: tree pruning end, 1 roots, 6 extra nodes, 0 pruned nodes, max_depth=2\u001b[0m\n",
      "\u001b[31m[9]#011train-rmse:10.2033#011validation-rmse:8.28732\u001b[0m\n",
      "\u001b[31m[21:30:26] src/tree/updater_prune.cc:74: tree pruning end, 1 roots, 6 extra nodes, 0 pruned nodes, max_depth=2\u001b[0m\n",
      "\u001b[31m[10]#011train-rmse:9.86635#011validation-rmse:7.9339\u001b[0m\n",
      "\u001b[31m[21:30:26] src/tree/updater_prune.cc:74: tree pruning end, 1 roots, 6 extra nodes, 0 pruned nodes, max_depth=2\u001b[0m\n",
      "\u001b[31m[11]#011train-rmse:9.55105#011validation-rmse:7.62751\u001b[0m\n",
      "\u001b[31m[21:30:26] src/tree/updater_prune.cc:74: tree pruning end, 1 roots, 6 extra nodes, 0 pruned nodes, max_depth=2\u001b[0m\n",
      "\u001b[31m[12]#011train-rmse:9.25422#011validation-rmse:7.34479\u001b[0m\n",
      "\u001b[31m[21:30:26] src/tree/updater_prune.cc:74: tree pruning end, 1 roots, 6 extra nodes, 0 pruned nodes, max_depth=2\u001b[0m\n",
      "\u001b[31m[13]#011train-rmse:8.97962#011validation-rmse:7.06742\u001b[0m\n",
      "\u001b[31m[21:30:26] src/tree/updater_prune.cc:74: tree pruning end, 1 roots, 6 extra nodes, 0 pruned nodes, max_depth=2\u001b[0m\n",
      "\u001b[31m[14]#011train-rmse:8.71776#011validation-rmse:6.81114\u001b[0m\n",
      "\u001b[31m[21:30:26] src/tree/updater_prune.cc:74: tree pruning end, 1 roots, 6 extra nodes, 0 pruned nodes, max_depth=2\u001b[0m\n",
      "\u001b[31m[15]#011train-rmse:8.47383#011validation-rmse:6.56424\u001b[0m\n",
      "\u001b[31m[21:30:26] src/tree/updater_prune.cc:74: tree pruning end, 1 roots, 6 extra nodes, 0 pruned nodes, max_depth=2\u001b[0m\n",
      "\u001b[31m[16]#011train-rmse:8.2232#011validation-rmse:6.34189\u001b[0m\n",
      "\u001b[31m[21:30:26] src/tree/updater_prune.cc:74: tree pruning end, 1 roots, 6 extra nodes, 0 pruned nodes, max_depth=2\u001b[0m\n",
      "\u001b[31m[17]#011train-rmse:8.00862#011validation-rmse:6.10913\u001b[0m\n",
      "\u001b[31m[21:30:26] src/tree/updater_prune.cc:74: tree pruning end, 1 roots, 6 extra nodes, 0 pruned nodes, max_depth=2\u001b[0m\n",
      "\u001b[31m[18]#011train-rmse:7.78873#011validation-rmse:5.91146\u001b[0m\n",
      "\u001b[31m[21:30:26] src/tree/updater_prune.cc:74: tree pruning end, 1 roots, 6 extra nodes, 0 pruned nodes, max_depth=2\u001b[0m\n",
      "\u001b[31m[19]#011train-rmse:7.598#011validation-rmse:5.70822\u001b[0m\n",
      "\u001b[31m[21:30:26] src/tree/updater_prune.cc:74: tree pruning end, 1 roots, 6 extra nodes, 0 pruned nodes, max_depth=2\u001b[0m\n",
      "\u001b[31m[20]#011train-rmse:7.42358#011validation-rmse:5.51207\u001b[0m\n",
      "\u001b[31m[21:30:26] src/tree/updater_prune.cc:74: tree pruning end, 1 roots, 6 extra nodes, 0 pruned nodes, max_depth=2\u001b[0m\n",
      "\u001b[31m[21]#011train-rmse:7.26135#011validation-rmse:5.35429\u001b[0m\n",
      "\u001b[31m[21:30:26] src/tree/updater_prune.cc:74: tree pruning end, 1 roots, 6 extra nodes, 0 pruned nodes, max_depth=2\u001b[0m\n",
      "\u001b[31m[22]#011train-rmse:7.10912#011validation-rmse:5.15903\u001b[0m\n",
      "\u001b[31m[21:30:26] src/tree/updater_prune.cc:74: tree pruning end, 1 roots, 6 extra nodes, 0 pruned nodes, max_depth=2\u001b[0m\n",
      "\u001b[31m[23]#011train-rmse:6.9472#011validation-rmse:5.00871\u001b[0m\n",
      "\u001b[31m[21:30:26] src/tree/updater_prune.cc:74: tree pruning end, 1 roots, 6 extra nodes, 0 pruned nodes, max_depth=2\u001b[0m\n",
      "\u001b[31m[24]#011train-rmse:6.81856#011validation-rmse:4.8862\u001b[0m\n",
      "\u001b[31m[21:30:26] src/tree/updater_prune.cc:74: tree pruning end, 1 roots, 6 extra nodes, 0 pruned nodes, max_depth=2\u001b[0m\n",
      "\u001b[31m[25]#011train-rmse:6.67873#011validation-rmse:4.76639\u001b[0m\n",
      "\u001b[31m[21:30:26] src/tree/updater_prune.cc:74: tree pruning end, 1 roots, 6 extra nodes, 0 pruned nodes, max_depth=2\u001b[0m\n",
      "\u001b[31m[26]#011train-rmse:6.55289#011validation-rmse:4.64385\u001b[0m\n",
      "\u001b[31m[21:30:26] src/tree/updater_prune.cc:74: tree pruning end, 1 roots, 6 extra nodes, 0 pruned nodes, max_depth=2\u001b[0m\n",
      "\u001b[31m[27]#011train-rmse:6.43444#011validation-rmse:4.53336\u001b[0m\n",
      "\u001b[31m[21:30:26] src/tree/updater_prune.cc:74: tree pruning end, 1 roots, 6 extra nodes, 0 pruned nodes, max_depth=2\u001b[0m\n",
      "\u001b[31m[28]#011train-rmse:6.33298#011validation-rmse:4.4026\u001b[0m\n",
      "\u001b[31m[21:30:26] src/tree/updater_prune.cc:74: tree pruning end, 1 roots, 6 extra nodes, 0 pruned nodes, max_depth=2\u001b[0m\n",
      "\u001b[31m[29]#011train-rmse:6.23799#011validation-rmse:4.30319\u001b[0m\n",
      "\u001b[31m[21:30:26] src/tree/updater_prune.cc:74: tree pruning end, 1 roots, 6 extra nodes, 0 pruned nodes, max_depth=2\u001b[0m\n",
      "\u001b[31m[30]#011train-rmse:6.14648#011validation-rmse:4.21326\u001b[0m\n",
      "\u001b[31m[21:30:26] src/tree/updater_prune.cc:74: tree pruning end, 1 roots, 6 extra nodes, 0 pruned nodes, max_depth=2\u001b[0m\n",
      "\u001b[31m[31]#011train-rmse:6.05644#011validation-rmse:4.13731\u001b[0m\n",
      "\u001b[31m[21:30:26] src/tree/updater_prune.cc:74: tree pruning end, 1 roots, 6 extra nodes, 0 pruned nodes, max_depth=2\u001b[0m\n",
      "\u001b[31m[32]#011train-rmse:5.98343#011validation-rmse:4.05342\u001b[0m\n",
      "\u001b[31m[21:30:26] src/tree/updater_prune.cc:74: tree pruning end, 1 roots, 6 extra nodes, 0 pruned nodes, max_depth=2\u001b[0m\n",
      "\u001b[31m[33]#011train-rmse:5.9125#011validation-rmse:3.9831\u001b[0m\n",
      "\u001b[31m[21:30:26] src/tree/updater_prune.cc:74: tree pruning end, 1 roots, 6 extra nodes, 0 pruned nodes, max_depth=2\u001b[0m\n",
      "\u001b[31m[34]#011train-rmse:5.84139#011validation-rmse:3.9249\u001b[0m\n",
      "\u001b[31m[21:30:26] src/tree/updater_prune.cc:74: tree pruning end, 1 roots, 6 extra nodes, 0 pruned nodes, max_depth=2\u001b[0m\n",
      "\u001b[31m[35]#011train-rmse:5.78486#011validation-rmse:3.87051\u001b[0m\n",
      "\u001b[31m[21:30:26] src/tree/updater_prune.cc:74: tree pruning end, 1 roots, 6 extra nodes, 0 pruned nodes, max_depth=2\u001b[0m\n",
      "\u001b[31m[36]#011train-rmse:5.71947#011validation-rmse:3.81841\u001b[0m\n",
      "\u001b[31m[21:30:26] src/tree/updater_prune.cc:74: tree pruning end, 1 roots, 6 extra nodes, 0 pruned nodes, max_depth=2\u001b[0m\n",
      "\u001b[31m[37]#011train-rmse:5.66521#011validation-rmse:3.76658\u001b[0m\n",
      "\u001b[31m[21:30:26] src/tree/updater_prune.cc:74: tree pruning end, 1 roots, 6 extra nodes, 0 pruned nodes, max_depth=2\u001b[0m\n",
      "\u001b[31m[38]#011train-rmse:5.61547#011validation-rmse:3.7231\u001b[0m\n",
      "\u001b[31m[21:30:26] src/tree/updater_prune.cc:74: tree pruning end, 1 roots, 6 extra nodes, 0 pruned nodes, max_depth=2\u001b[0m\n",
      "\u001b[31m[39]#011train-rmse:5.5698#011validation-rmse:3.66176\u001b[0m\n",
      "\u001b[31m[21:30:26] src/tree/updater_prune.cc:74: tree pruning end, 1 roots, 6 extra nodes, 0 pruned nodes, max_depth=2\u001b[0m\n",
      "\u001b[31m[40]#011train-rmse:5.53075#011validation-rmse:3.62563\u001b[0m\n",
      "\u001b[31m[21:30:26] src/tree/updater_prune.cc:74: tree pruning end, 1 roots, 6 extra nodes, 0 pruned nodes, max_depth=2\u001b[0m\n",
      "\u001b[31m[41]#011train-rmse:5.48685#011validation-rmse:3.59295\u001b[0m\n",
      "\u001b[31m[21:30:26] src/tree/updater_prune.cc:74: tree pruning end, 1 roots, 6 extra nodes, 0 pruned nodes, max_depth=2\u001b[0m\n",
      "\u001b[31m[42]#011train-rmse:5.45028#011validation-rmse:3.54865\u001b[0m\n",
      "\u001b[31m[21:30:26] src/tree/updater_prune.cc:74: tree pruning end, 1 roots, 6 extra nodes, 0 pruned nodes, max_depth=2\u001b[0m\n",
      "\u001b[31m[43]#011train-rmse:5.41434#011validation-rmse:3.5227\u001b[0m\n",
      "\u001b[31m[21:30:26] src/tree/updater_prune.cc:74: tree pruning end, 1 roots, 6 extra nodes, 0 pruned nodes, max_depth=2\u001b[0m\n",
      "\u001b[31m[44]#011train-rmse:5.38501#011validation-rmse:3.49286\u001b[0m\n",
      "\u001b[31m[21:30:26] src/tree/updater_prune.cc:74: tree pruning end, 1 roots, 6 extra nodes, 0 pruned nodes, max_depth=2\u001b[0m\n",
      "\u001b[31m[45]#011train-rmse:5.35557#011validation-rmse:3.47008\u001b[0m\n",
      "\u001b[31m[21:30:26] src/tree/updater_prune.cc:74: tree pruning end, 1 roots, 6 extra nodes, 0 pruned nodes, max_depth=2\u001b[0m\n",
      "\u001b[31m[46]#011train-rmse:5.32497#011validation-rmse:3.44935\u001b[0m\n",
      "\u001b[31m[21:30:26] src/tree/updater_prune.cc:74: tree pruning end, 1 roots, 6 extra nodes, 0 pruned nodes, max_depth=2\u001b[0m\n",
      "\u001b[31m[47]#011train-rmse:5.30003#011validation-rmse:3.43136\u001b[0m\n",
      "\u001b[31m[21:30:26] src/tree/updater_prune.cc:74: tree pruning end, 1 roots, 6 extra nodes, 0 pruned nodes, max_depth=2\u001b[0m\n",
      "\u001b[31m[48]#011train-rmse:5.27683#011validation-rmse:3.40433\u001b[0m\n",
      "\u001b[31m[21:30:26] src/tree/updater_prune.cc:74: tree pruning end, 1 roots, 6 extra nodes, 0 pruned nodes, max_depth=2\u001b[0m\n",
      "\u001b[31m[49]#011train-rmse:5.25566#011validation-rmse:3.39121\u001b[0m\n",
      "\u001b[31m[21:30:26] src/tree/updater_prune.cc:74: tree pruning end, 1 roots, 6 extra nodes, 0 pruned nodes, max_depth=2\u001b[0m\n",
      "\u001b[31m[50]#011train-rmse:5.23536#011validation-rmse:3.37474\u001b[0m\n",
      "\u001b[31m[21:30:26] src/tree/updater_prune.cc:74: tree pruning end, 1 roots, 6 extra nodes, 0 pruned nodes, max_depth=2\u001b[0m\n",
      "\u001b[31m[51]#011train-rmse:5.21822#011validation-rmse:3.36332\u001b[0m\n",
      "\u001b[31m[21:30:26] src/tree/updater_prune.cc:74: tree pruning end, 1 roots, 6 extra nodes, 0 pruned nodes, max_depth=2\u001b[0m\n",
      "\u001b[31m[52]#011train-rmse:5.19938#011validation-rmse:3.34689\u001b[0m\n",
      "\u001b[31m[21:30:26] src/tree/updater_prune.cc:74: tree pruning end, 1 roots, 6 extra nodes, 0 pruned nodes, max_depth=2\u001b[0m\n",
      "\u001b[31m[53]#011train-rmse:5.18138#011validation-rmse:3.33819\u001b[0m\n",
      "\u001b[31m[21:30:26] src/tree/updater_prune.cc:74: tree pruning end, 1 roots, 6 extra nodes, 0 pruned nodes, max_depth=2\u001b[0m\n",
      "\u001b[31m[54]#011train-rmse:5.16646#011validation-rmse:3.32859\u001b[0m\n",
      "\u001b[31m[21:30:26] src/tree/updater_prune.cc:74: tree pruning end, 1 roots, 6 extra nodes, 0 pruned nodes, max_depth=2\u001b[0m\n",
      "\u001b[31m[55]#011train-rmse:5.15056#011validation-rmse:3.32193\u001b[0m\n",
      "\u001b[31m[21:30:26] src/tree/updater_prune.cc:74: tree pruning end, 1 roots, 6 extra nodes, 0 pruned nodes, max_depth=2\u001b[0m\n",
      "\u001b[31m[56]#011train-rmse:5.13446#011validation-rmse:3.31322\u001b[0m\n",
      "\u001b[31m[21:30:26] src/tree/updater_prune.cc:74: tree pruning end, 1 roots, 6 extra nodes, 0 pruned nodes, max_depth=2\u001b[0m\n",
      "\u001b[31m[57]#011train-rmse:5.12052#011validation-rmse:3.30505\u001b[0m\n",
      "\u001b[31m[21:30:26] src/tree/updater_prune.cc:74: tree pruning end, 1 roots, 6 extra nodes, 0 pruned nodes, max_depth=2\u001b[0m\n",
      "\u001b[31m[58]#011train-rmse:5.10731#011validation-rmse:3.29882\u001b[0m\n",
      "\u001b[31m[21:30:26] src/tree/updater_prune.cc:74: tree pruning end, 1 roots, 6 extra nodes, 0 pruned nodes, max_depth=2\u001b[0m\n",
      "\u001b[31m[59]#011train-rmse:5.09623#011validation-rmse:3.29367\u001b[0m\n",
      "\u001b[31m[21:30:26] src/tree/updater_prune.cc:74: tree pruning end, 1 roots, 6 extra nodes, 0 pruned nodes, max_depth=2\u001b[0m\n",
      "\u001b[31m[60]#011train-rmse:5.08563#011validation-rmse:3.2889\u001b[0m\n",
      "\u001b[31m[21:30:26] src/tree/updater_prune.cc:74: tree pruning end, 1 roots, 6 extra nodes, 0 pruned nodes, max_depth=2\u001b[0m\n",
      "\u001b[31m[61]#011train-rmse:5.07657#011validation-rmse:3.28189\u001b[0m\n",
      "\u001b[31m[21:30:26] src/tree/updater_prune.cc:74: tree pruning end, 1 roots, 6 extra nodes, 0 pruned nodes, max_depth=2\u001b[0m\n",
      "\u001b[31m[62]#011train-rmse:5.06694#011validation-rmse:3.27877\u001b[0m\n",
      "\u001b[31m[21:30:26] src/tree/updater_prune.cc:74: tree pruning end, 1 roots, 6 extra nodes, 0 pruned nodes, max_depth=2\u001b[0m\n",
      "\u001b[31m[63]#011train-rmse:5.05922#011validation-rmse:3.27459\u001b[0m\n",
      "\u001b[31m[21:30:26] src/tree/updater_prune.cc:74: tree pruning end, 1 roots, 6 extra nodes, 0 pruned nodes, max_depth=2\u001b[0m\n",
      "\u001b[31m[64]#011train-rmse:5.0523#011validation-rmse:3.26889\u001b[0m\n",
      "\u001b[31m[21:30:26] src/tree/updater_prune.cc:74: tree pruning end, 1 roots, 6 extra nodes, 0 pruned nodes, max_depth=2\u001b[0m\n",
      "\u001b[31m[65]#011train-rmse:5.04486#011validation-rmse:3.26462\u001b[0m\n",
      "\u001b[31m[21:30:26] src/tree/updater_prune.cc:74: tree pruning end, 1 roots, 6 extra nodes, 0 pruned nodes, max_depth=2\u001b[0m\n",
      "\u001b[31m[66]#011train-rmse:5.0378#011validation-rmse:3.26044\u001b[0m\n",
      "\u001b[31m[21:30:26] src/tree/updater_prune.cc:74: tree pruning end, 1 roots, 6 extra nodes, 0 pruned nodes, max_depth=2\u001b[0m\n",
      "\u001b[31m[67]#011train-rmse:5.0297#011validation-rmse:3.2584\u001b[0m\n",
      "\u001b[31m[21:30:26] src/tree/updater_prune.cc:74: tree pruning end, 1 roots, 6 extra nodes, 0 pruned nodes, max_depth=2\u001b[0m\n",
      "\u001b[31m[68]#011train-rmse:5.0206#011validation-rmse:3.25496\u001b[0m\n",
      "\u001b[31m[21:30:26] src/tree/updater_prune.cc:74: tree pruning end, 1 roots, 6 extra nodes, 0 pruned nodes, max_depth=2\u001b[0m\n",
      "\u001b[31m[69]#011train-rmse:5.01476#011validation-rmse:3.25179\u001b[0m\n",
      "\u001b[31m[21:30:26] src/tree/updater_prune.cc:74: tree pruning end, 1 roots, 6 extra nodes, 0 pruned nodes, max_depth=2\u001b[0m\n",
      "\u001b[31m[70]#011train-rmse:5.00558#011validation-rmse:3.2481\u001b[0m\n",
      "\u001b[31m[21:30:26] src/tree/updater_prune.cc:74: tree pruning end, 1 roots, 4 extra nodes, 0 pruned nodes, max_depth=2\u001b[0m\n",
      "\u001b[31m[71]#011train-rmse:4.99975#011validation-rmse:3.24685\u001b[0m\n",
      "\u001b[31m[21:30:26] src/tree/updater_prune.cc:74: tree pruning end, 1 roots, 6 extra nodes, 0 pruned nodes, max_depth=2\u001b[0m\n",
      "\u001b[31m[72]#011train-rmse:4.9917#011validation-rmse:3.24401\u001b[0m\n",
      "\u001b[31m[21:30:26] src/tree/updater_prune.cc:74: tree pruning end, 1 roots, 6 extra nodes, 0 pruned nodes, max_depth=2\u001b[0m\n",
      "\u001b[31m[73]#011train-rmse:4.98468#011validation-rmse:3.25069\u001b[0m\n",
      "\u001b[31m[21:30:26] src/tree/updater_prune.cc:74: tree pruning end, 1 roots, 6 extra nodes, 0 pruned nodes, max_depth=2\u001b[0m\n",
      "\u001b[31m[74]#011train-rmse:4.98062#011validation-rmse:3.24853\u001b[0m\n",
      "\u001b[31m[21:30:26] src/tree/updater_prune.cc:74: tree pruning end, 1 roots, 6 extra nodes, 0 pruned nodes, max_depth=2\u001b[0m\n",
      "\u001b[31m[75]#011train-rmse:4.97483#011validation-rmse:3.24747\u001b[0m\n",
      "\u001b[31m[21:30:26] src/tree/updater_prune.cc:74: tree pruning end, 1 roots, 6 extra nodes, 0 pruned nodes, max_depth=2\u001b[0m\n",
      "\u001b[31m[76]#011train-rmse:4.97151#011validation-rmse:3.24674\u001b[0m\n",
      "\u001b[31m[21:30:26] src/tree/updater_prune.cc:74: tree pruning end, 1 roots, 4 extra nodes, 0 pruned nodes, max_depth=2\u001b[0m\n",
      "\u001b[31m[77]#011train-rmse:4.9684#011validation-rmse:3.2431\u001b[0m\n",
      "\u001b[31m[21:30:26] src/tree/updater_prune.cc:74: tree pruning end, 1 roots, 6 extra nodes, 0 pruned nodes, max_depth=2\u001b[0m\n",
      "\u001b[31m[78]#011train-rmse:4.96274#011validation-rmse:3.24001\u001b[0m\n",
      "\u001b[31m[21:30:26] src/tree/updater_prune.cc:74: tree pruning end, 1 roots, 6 extra nodes, 0 pruned nodes, max_depth=2\u001b[0m\n",
      "\u001b[31m[79]#011train-rmse:4.95836#011validation-rmse:3.23781\u001b[0m\n",
      "\u001b[31m[21:30:26] src/tree/updater_prune.cc:74: tree pruning end, 1 roots, 4 extra nodes, 0 pruned nodes, max_depth=2\u001b[0m\n",
      "\u001b[31m[80]#011train-rmse:4.95514#011validation-rmse:3.23586\u001b[0m\n",
      "\u001b[31m[21:30:26] src/tree/updater_prune.cc:74: tree pruning end, 1 roots, 6 extra nodes, 0 pruned nodes, max_depth=2\u001b[0m\n",
      "\u001b[31m[81]#011train-rmse:4.95006#011validation-rmse:3.23169\u001b[0m\n",
      "\u001b[31m[21:30:26] src/tree/updater_prune.cc:74: tree pruning end, 1 roots, 6 extra nodes, 0 pruned nodes, max_depth=2\u001b[0m\n",
      "\u001b[31m[82]#011train-rmse:4.94536#011validation-rmse:3.23018\u001b[0m\n",
      "\u001b[31m[21:30:26] src/tree/updater_prune.cc:74: tree pruning end, 1 roots, 6 extra nodes, 0 pruned nodes, max_depth=2\u001b[0m\n",
      "\u001b[31m[83]#011train-rmse:4.9413#011validation-rmse:3.22944\u001b[0m\n",
      "\u001b[31m[21:30:26] src/tree/updater_prune.cc:74: tree pruning end, 1 roots, 6 extra nodes, 0 pruned nodes, max_depth=2\u001b[0m\n",
      "\u001b[31m[84]#011train-rmse:4.93802#011validation-rmse:3.22876\u001b[0m\n",
      "\u001b[31m[21:30:26] src/tree/updater_prune.cc:74: tree pruning end, 1 roots, 6 extra nodes, 0 pruned nodes, max_depth=2\u001b[0m\n",
      "\u001b[31m[85]#011train-rmse:4.93358#011validation-rmse:3.22633\u001b[0m\n",
      "\u001b[31m[21:30:26] src/tree/updater_prune.cc:74: tree pruning end, 1 roots, 6 extra nodes, 0 pruned nodes, max_depth=2\u001b[0m\n",
      "\u001b[31m[86]#011train-rmse:4.92881#011validation-rmse:3.22429\u001b[0m\n",
      "\u001b[31m[21:30:26] src/tree/updater_prune.cc:74: tree pruning end, 1 roots, 6 extra nodes, 0 pruned nodes, max_depth=2\u001b[0m\n",
      "\u001b[31m[87]#011train-rmse:4.92454#011validation-rmse:3.22254\u001b[0m\n",
      "\u001b[31m[21:30:26] src/tree/updater_prune.cc:74: tree pruning end, 1 roots, 6 extra nodes, 0 pruned nodes, max_depth=2\u001b[0m\n",
      "\u001b[31m[88]#011train-rmse:4.92069#011validation-rmse:3.22036\u001b[0m\n",
      "\u001b[31m[21:30:26] src/tree/updater_prune.cc:74: tree pruning end, 1 roots, 4 extra nodes, 0 pruned nodes, max_depth=2\u001b[0m\n",
      "\u001b[31m[89]#011train-rmse:4.91873#011validation-rmse:3.21805\u001b[0m\n",
      "\u001b[31m[21:30:26] src/tree/updater_prune.cc:74: tree pruning end, 1 roots, 6 extra nodes, 0 pruned nodes, max_depth=2\u001b[0m\n",
      "\u001b[31m[90]#011train-rmse:4.9162#011validation-rmse:3.21398\u001b[0m\n",
      "\u001b[31m[21:30:26] src/tree/updater_prune.cc:74: tree pruning end, 1 roots, 6 extra nodes, 0 pruned nodes, max_depth=2\u001b[0m\n",
      "\u001b[31m[91]#011train-rmse:4.91299#011validation-rmse:3.21404\u001b[0m\n",
      "\u001b[31m[21:30:26] src/tree/updater_prune.cc:74: tree pruning end, 1 roots, 6 extra nodes, 0 pruned nodes, max_depth=2\u001b[0m\n",
      "\u001b[31m[92]#011train-rmse:4.90881#011validation-rmse:3.21654\u001b[0m\n",
      "\u001b[31m[21:30:26] src/tree/updater_prune.cc:74: tree pruning end, 1 roots, 6 extra nodes, 0 pruned nodes, max_depth=2\u001b[0m\n",
      "\u001b[31m[93]#011train-rmse:4.90659#011validation-rmse:3.21551\u001b[0m\n",
      "\u001b[31m[21:30:26] src/tree/updater_prune.cc:74: tree pruning end, 1 roots, 4 extra nodes, 0 pruned nodes, max_depth=2\u001b[0m\n",
      "\u001b[31m[94]#011train-rmse:4.90503#011validation-rmse:3.21469\u001b[0m\n",
      "\u001b[31m[21:30:26] src/tree/updater_prune.cc:74: tree pruning end, 1 roots, 6 extra nodes, 0 pruned nodes, max_depth=2\u001b[0m\n",
      "\u001b[31m[95]#011train-rmse:4.90263#011validation-rmse:3.21352\u001b[0m\n",
      "\u001b[31m[21:30:26] src/tree/updater_prune.cc:74: tree pruning end, 1 roots, 6 extra nodes, 0 pruned nodes, max_depth=2\u001b[0m\n",
      "\u001b[31m[96]#011train-rmse:4.90083#011validation-rmse:3.21199\u001b[0m\n",
      "\u001b[31m[21:30:26] src/tree/updater_prune.cc:74: tree pruning end, 1 roots, 4 extra nodes, 0 pruned nodes, max_depth=2\u001b[0m\n",
      "\u001b[31m[97]#011train-rmse:4.89947#011validation-rmse:3.20863\u001b[0m\n",
      "\u001b[31m[21:30:26] src/tree/updater_prune.cc:74: tree pruning end, 1 roots, 6 extra nodes, 0 pruned nodes, max_depth=2\u001b[0m\n",
      "\u001b[31m[98]#011train-rmse:4.89746#011validation-rmse:3.20784\u001b[0m\n",
      "\u001b[31m[21:30:26] src/tree/updater_prune.cc:74: tree pruning end, 1 roots, 4 extra nodes, 0 pruned nodes, max_depth=2\u001b[0m\n",
      "\u001b[31m[99]#011train-rmse:4.89606#011validation-rmse:3.20774\u001b[0m\n"
     ]
    },
    {
     "name": "stdout",
     "output_type": "stream",
     "text": [
      "===== Job Complete =====\n",
      "Billable seconds: 136\n"
     ]
    }
   ],
   "source": [
    "import sagemaker\n",
    "\n",
    "#   'HyperParameters': {'eta': '0.048607529603813975',\n",
    "#    'eval_metric': 'rmse',\n",
    "#    'gamma': '1.2329359559052957',\n",
    "#    'max_depth': '2',\n",
    "#    'min_child_weight': '5.294569737212162',\n",
    "#    'num_round': '100',\n",
    "#    'objective': 'reg:linear',\n",
    "#    'rate_drop': '0.3',\n",
    "#    'tweedie_variance_power': '1.4'},\n",
    "        \n",
    "# Instantiate the estimator\n",
    "xgboost = sagemaker.estimator.Estimator('811284229777.dkr.ecr.us-east-1.amazonaws.com/xgboost:latest',\n",
    "                                       role, \n",
    "                                       train_instance_count=1, \n",
    "                                       train_instance_type='ml.c4.xlarge',\n",
    "                                       output_path='s3://{}/{}/output'.format(bucket, prefix),\n",
    "                                       sagemaker_session=sagemaker.Session())\n",
    "\n",
    "# Set the hyperparameters\n",
    "xgboost.set_hyperparameters(max_depth=2,\n",
    "                        eta=0.048607529603813975,\n",
    "                        gamma=1.2329359559052957,\n",
    "                        min_child_weight=5.294569737212162,\n",
    "                        subsample=0.8,\n",
    "                        silent=0,\n",
    "                        objective='reg:linear',\n",
    "                        num_round=100)\n",
    "\n",
    "# Set the input data formatting and locatiopns\n",
    "s3_input_train = sagemaker.s3_input(s3_data=s3_train_loc, content_type='csv')\n",
    "s3_input_validation = sagemaker.s3_input(s3_data=s3_valid_loc, content_type='csv')\n",
    "\n",
    "# Train the model\n",
    "xgboost.fit({'train': s3_input_train, 'validation': s3_input_validation})"
   ]
  },
  {
   "cell_type": "code",
   "execution_count": 120,
   "metadata": {
    "scrolled": true
   },
   "outputs": [
    {
     "name": "stderr",
     "output_type": "stream",
     "text": [
      "INFO:sagemaker:Creating model with name: xgboost-2018-04-13-21-51-39-593\n",
      "INFO:sagemaker:Creating endpoint with name xgboost-2018-04-13-21-25-46-918\n"
     ]
    },
    {
     "name": "stdout",
     "output_type": "stream",
     "text": [
      "--------------------------------------------------------------------------!"
     ]
    }
   ],
   "source": [
    "xgboost_predictor = xgboost.deploy(initial_instance_count=1, instance_type='ml.m4.xlarge')"
   ]
  },
  {
   "cell_type": "markdown",
   "metadata": {},
   "source": [
    "## Validate the model for use\n",
    "Finally, the customer can now validate the model for use. They can obtain the endpoint from the client library using the result from previous operations, and generate classifications from the trained model using that endpoint.\n"
   ]
  },
  {
   "cell_type": "code",
   "execution_count": 121,
   "metadata": {
    "collapsed": true
   },
   "outputs": [],
   "source": [
    "from sagemaker.predictor import csv_serializer"
   ]
  },
  {
   "cell_type": "markdown",
   "metadata": {
    "collapsed": true
   },
   "source": [
    "## import numpy as np\n",
    "\n",
    "def predict(data, rows=500):\n",
    "    xgboost_predictor.content_type = 'text/csv'\n",
    "    xgboost_predictor.serializer = csv_serializer\n",
    "    xgboost_predictor.deserializer = None\n",
    "\n",
    "    split_array = np.array_split(data, int(data.shape[0] / float(rows) + 1))\n",
    "    predictions = ''\n",
    "    for array in split_array:\n",
    "        predictions = ','.join([predictions, xgboost_predictor.predict(array).decode('utf-8')])\n",
    "\n",
    "    return np.fromstring(predictions[1:], sep=',')\n",
    "\n",
    "test_data = pd.read_csv(FILE_TEST, header=None)\n",
    "labels = test_data.iloc[:,0]\n",
    "predictions = predict(test_data.as_matrix()[:, 1:]) # Note that we are not using the first column, which is the label"
   ]
  },
  {
   "cell_type": "code",
   "execution_count": 122,
   "metadata": {
    "collapsed": true
   },
   "outputs": [],
   "source": [
    "import numpy as np\n",
    "\n",
    "# def predict(data, rows=500):\n",
    "def predict(data):\n",
    "    rows=len(data)\n",
    "    xgboost_predictor.content_type = 'text/csv'\n",
    "    xgboost_predictor.serializer = csv_serializer\n",
    "    xgboost_predictor.deserializer = None\n",
    "\n",
    "    split_array = np.array_split(data, int(data.shape[0] / float(rows) + 1))\n",
    "    predictions = ''\n",
    "    for array in split_array:\n",
    "        predictions = ','.join([predictions, xgboost_predictor.predict(array).decode('utf-8')])\n",
    "\n",
    "    return np.fromstring(predictions[1:], sep=',')\n",
    "\n",
    "test_data = pd.read_csv(FILE_TEST, header=None)\n",
    "labels = test_data.iloc[:,0]\n",
    "predictions = predict(test_data.as_matrix()[:, 1:]) # Note that we are not using the first column, which is the label"
   ]
  },
  {
   "cell_type": "code",
   "execution_count": 124,
   "metadata": {},
   "outputs": [
    {
     "name": "stderr",
     "output_type": "stream",
     "text": [
      "/home/ec2-user/anaconda3/envs/python3/lib/python3.6/site-packages/ipykernel/__main__.py:48: SettingWithCopyWarning: \n",
      "A value is trying to be set on a copy of a slice from a DataFrame.\n",
      "Try using .loc[row_indexer,col_indexer] = value instead\n",
      "\n",
      "See the caveats in the documentation: http://pandas.pydata.org/pandas-docs/stable/indexing.html#indexing-view-versus-copy\n"
     ]
    },
    {
     "data": {
      "text/html": [
       "<div>\n",
       "<style scoped>\n",
       "    .dataframe tbody tr th:only-of-type {\n",
       "        vertical-align: middle;\n",
       "    }\n",
       "\n",
       "    .dataframe tbody tr th {\n",
       "        vertical-align: top;\n",
       "    }\n",
       "\n",
       "    .dataframe thead th {\n",
       "        text-align: right;\n",
       "    }\n",
       "</style>\n",
       "<table border=\"1\" class=\"dataframe\">\n",
       "  <thead>\n",
       "    <tr style=\"text-align: right;\">\n",
       "      <th></th>\n",
       "      <th>Facies</th>\n",
       "      <th>Formation</th>\n",
       "      <th>Well Name</th>\n",
       "      <th>Depth</th>\n",
       "      <th>GR</th>\n",
       "      <th>ILD_log10</th>\n",
       "      <th>DeltaPHI</th>\n",
       "      <th>PHIND</th>\n",
       "      <th>PE</th>\n",
       "      <th>NM_M</th>\n",
       "      <th>RELPOS</th>\n",
       "      <th>PPoro</th>\n",
       "    </tr>\n",
       "  </thead>\n",
       "  <tbody>\n",
       "    <tr>\n",
       "      <th>937</th>\n",
       "      <td>2</td>\n",
       "      <td>A1 SH</td>\n",
       "      <td>SHANKLE</td>\n",
       "      <td>2774.5</td>\n",
       "      <td>98.36</td>\n",
       "      <td>0.642</td>\n",
       "      <td>-0.1</td>\n",
       "      <td>18.685</td>\n",
       "      <td>2.9</td>\n",
       "      <td>1</td>\n",
       "      <td>1.000</td>\n",
       "      <td>17.656174</td>\n",
       "    </tr>\n",
       "    <tr>\n",
       "      <th>938</th>\n",
       "      <td>2</td>\n",
       "      <td>A1 SH</td>\n",
       "      <td>SHANKLE</td>\n",
       "      <td>2775.0</td>\n",
       "      <td>97.57</td>\n",
       "      <td>0.631</td>\n",
       "      <td>7.9</td>\n",
       "      <td>16.745</td>\n",
       "      <td>3.2</td>\n",
       "      <td>1</td>\n",
       "      <td>0.984</td>\n",
       "      <td>14.321953</td>\n",
       "    </tr>\n",
       "    <tr>\n",
       "      <th>939</th>\n",
       "      <td>2</td>\n",
       "      <td>A1 SH</td>\n",
       "      <td>SHANKLE</td>\n",
       "      <td>2775.5</td>\n",
       "      <td>98.41</td>\n",
       "      <td>0.615</td>\n",
       "      <td>12.8</td>\n",
       "      <td>14.105</td>\n",
       "      <td>3.2</td>\n",
       "      <td>1</td>\n",
       "      <td>0.968</td>\n",
       "      <td>14.665792</td>\n",
       "    </tr>\n",
       "    <tr>\n",
       "      <th>940</th>\n",
       "      <td>2</td>\n",
       "      <td>A1 SH</td>\n",
       "      <td>SHANKLE</td>\n",
       "      <td>2776.0</td>\n",
       "      <td>85.92</td>\n",
       "      <td>0.597</td>\n",
       "      <td>13.0</td>\n",
       "      <td>13.385</td>\n",
       "      <td>3.4</td>\n",
       "      <td>1</td>\n",
       "      <td>0.952</td>\n",
       "      <td>14.665792</td>\n",
       "    </tr>\n",
       "    <tr>\n",
       "      <th>941</th>\n",
       "      <td>2</td>\n",
       "      <td>A1 SH</td>\n",
       "      <td>SHANKLE</td>\n",
       "      <td>2776.5</td>\n",
       "      <td>83.16</td>\n",
       "      <td>0.592</td>\n",
       "      <td>12.3</td>\n",
       "      <td>13.345</td>\n",
       "      <td>3.4</td>\n",
       "      <td>1</td>\n",
       "      <td>0.935</td>\n",
       "      <td>14.665792</td>\n",
       "    </tr>\n",
       "  </tbody>\n",
       "</table>\n",
       "</div>"
      ],
      "text/plain": [
       "     Facies Formation Well Name   Depth     GR  ILD_log10  DeltaPHI   PHIND  \\\n",
       "937       2     A1 SH   SHANKLE  2774.5  98.36      0.642      -0.1  18.685   \n",
       "938       2     A1 SH   SHANKLE  2775.0  97.57      0.631       7.9  16.745   \n",
       "939       2     A1 SH   SHANKLE  2775.5  98.41      0.615      12.8  14.105   \n",
       "940       2     A1 SH   SHANKLE  2776.0  85.92      0.597      13.0  13.385   \n",
       "941       2     A1 SH   SHANKLE  2776.5  83.16      0.592      12.3  13.345   \n",
       "\n",
       "      PE  NM_M  RELPOS      PPoro  \n",
       "937  2.9     1   1.000  17.656174  \n",
       "938  3.2     1   0.984  14.321953  \n",
       "939  3.2     1   0.968  14.665792  \n",
       "940  3.4     1   0.952  14.665792  \n",
       "941  3.4     1   0.935  14.665792  "
      ]
     },
     "metadata": {},
     "output_type": "display_data"
    },
    {
     "name": "stdout",
     "output_type": "stream",
     "text": [
      "Correlation coeficient = 0.85109 \n",
      "Mean Squared Error = 25.97263\n"
     ]
    },
    {
     "data": {
      "image/png": "[encoded data removed]",
      "text/plain": [
       "<matplotlib.figure.Figure at 0x7f041fe14e48>"
      ]
     },
     "metadata": {},
     "output_type": "display_data"
    }
   ],
   "source": [
    "\n",
    "%matplotlib inline\n",
    "import pandas as pd\n",
    "import numpy as np\n",
    "import matplotlib as mpl\n",
    "import matplotlib.pyplot as plt\n",
    "import matplotlib.colors as colors\n",
    "from mpl_toolkits.axes_grid1 import make_axes_locatable\n",
    "from sklearn.metrics import mean_squared_error\n",
    "\n",
    "def log_plot(logs):\n",
    "    #make sure logs are sorted by depth\n",
    "    logs = logs.sort_values(by='Depth')\n",
    "\n",
    "    ztop=logs.Depth.min(); zbot=logs.Depth.max()\n",
    "        \n",
    "    f, ax = plt.subplots(nrows=1, ncols=4, figsize=(8, 12))\n",
    "    ax[0].plot(logs.GR, logs.Depth, '-g')\n",
    "    ax[1].plot(logs.ILD_log10, logs.Depth, '-')\n",
    "    ax[2].plot(logs.DeltaPHI, logs.Depth, '-', color='0.5')\n",
    "    ax[3].plot(logs.PHIND, logs.Depth, '-', color='r')\n",
    "    ax[3].plot(logs.PPoro, logs.Depth, '-', color='blue')\n",
    "    ax[3].legend(['Measured','Predicted'])\n",
    "    \n",
    "    for i in range(len(ax)):\n",
    "        ax[i].set_ylim(ztop,zbot)\n",
    "        ax[i].invert_yaxis()\n",
    "        ax[i].grid()\n",
    "        ax[i].locator_params(axis='x', nbins=3)\n",
    "    \n",
    "    ax[0].set_xlabel(\"GR\")\n",
    "    ax[0].set_xlim(logs.GR.min(),logs.GR.max())\n",
    "    ax[1].set_xlabel(\"ILD_log10\")\n",
    "    ax[1].set_xlim(logs.ILD_log10.min(),logs.ILD_log10.max())\n",
    "    ax[2].set_xlabel(\"DeltaPHI\")\n",
    "    ax[2].set_xlim(logs.DeltaPHI.min(),logs.DeltaPHI.max())\n",
    "    ax[3].set_xlabel(\"Porosity\")\n",
    "    ax[3].set_xlim(logs.PHIND.min(),logs.PHIND.max())\n",
    "\n",
    "    \n",
    "    ax[1].set_yticklabels([]); ax[2].set_yticklabels([]); ax[3].set_yticklabels([])\n",
    "    f.suptitle('Well: %s'%logs.iloc[0]['Well Name'], fontsize=14,y=0.94)\n",
    "\n",
    "\n",
    "    \n",
    "data = pd.read_csv('facies_vectors.csv')\n",
    "Blindwell = data[data['Well Name'] == Blind_Well_Name]\n",
    "Blindwell['PPoro'] = predictions\n",
    "display(Blindwell.head())\n",
    "log_plot(Blindwell)\n",
    "print('Correlation coeficient = {0:.5f} \\nMean Squared Error = {1:.5f}'.format(\n",
    "    np.corrcoef(predictions,labels)[0,1]\n",
    "    , mean_squared_error(predictions,labels)))"
   ]
  },
  {
   "cell_type": "markdown",
   "metadata": {},
   "source": [
    "### (Optional) Delete the Endpoint\n",
    "If you're ready to be done with this notebook, make sure run the cell below.  This will remove the hosted endpoint you created and avoid any charges from a stray instance being left on."
   ]
  },
  {
   "cell_type": "code",
   "execution_count": 11,
   "metadata": {},
   "outputs": [
    {
     "name": "stderr",
     "output_type": "stream",
     "text": [
      "INFO:sagemaker:Deleting endpoint with name: xgboost-2018-02-22-18-49-36-562\n"
     ]
    },
    {
     "name": "stdout",
     "output_type": "stream",
     "text": [
      "xgboost-2018-02-22-18-49-36-562\n"
     ]
    }
   ],
   "source": [
    "print(xgboost_predictor.endpoint)\n",
    "\n",
    "import sagemaker\n",
    "sagemaker.Session().delete_endpoint(xgboost_predictor.endpoint)"
   ]
  }
 ],
 "metadata": {
  "anaconda-cloud": {},
  "kernelspec": {
   "display_name": "Python 3",
   "language": "python",
   "name": "python3"
  },
  "language_info": {
   "codemirror_mode": {
    "name": "ipython",
    "version": 3
   },
   "file_extension": ".py",
   "mimetype": "text/x-python",
   "name": "python",
   "nbconvert_exporter": "python",
   "pygments_lexer": "ipython3",
   "version": "3.7.3"
  }
 },
 "nbformat": 4,
 "nbformat_minor": 2
}
